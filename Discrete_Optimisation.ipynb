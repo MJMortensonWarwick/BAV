{
  "nbformat": 4,
  "nbformat_minor": 0,
  "metadata": {
    "colab": {
      "provenance": [],
      "collapsed_sections": [],
      "authorship_tag": "ABX9TyMF9H9BzWauGPrDeRDnF6q8",
      "include_colab_link": true
    },
    "kernelspec": {
      "name": "python3",
      "display_name": "Python 3"
    },
    "language_info": {
      "name": "python"
    }
  },
  "cells": [
    {
      "cell_type": "markdown",
      "metadata": {
        "id": "view-in-github",
        "colab_type": "text"
      },
      "source": [
        "<a href=\"https://colab.research.google.com/github/MJMortensonWarwick/BAV/blob/main/Discrete_Optimisation.ipynb\" target=\"_parent\"><img src=\"https://colab.research.google.com/assets/colab-badge.svg\" alt=\"Open In Colab\"/></a>"
      ]
    },
    {
      "cell_type": "markdown",
      "source": [
        "# Discrete Optimisation in PuLP\n",
        "\n",
        "Optimising school dinners (adapted from: https://github.com/tirthajyoti)"
      ],
      "metadata": {
        "id": "BEUwMYjMn6nU"
      }
    },
    {
      "cell_type": "code",
      "execution_count": 1,
      "metadata": {
        "colab": {
          "base_uri": "https://localhost:8080/"
        },
        "id": "bSBuhOeCn5-f",
        "outputId": "931e1423-1af9-4c98-fc4c-16ff060889d5"
      },
      "outputs": [
        {
          "output_type": "stream",
          "name": "stdout",
          "text": [
            "Looking in indexes: https://pypi.org/simple, https://us-python.pkg.dev/colab-wheels/public/simple/\n",
            "Collecting pulp\n",
            "  Downloading PuLP-2.6.0-py3-none-any.whl (14.2 MB)\n",
            "\u001b[K     |████████████████████████████████| 14.2 MB 6.8 MB/s \n",
            "\u001b[?25hInstalling collected packages: pulp\n",
            "Successfully installed pulp-2.6.0\n",
            "Reading package lists... Done\n",
            "Building dependency tree       \n",
            "Reading state information... Done\n",
            "The following package was automatically installed and is no longer required:\n",
            "  libnvidia-common-460\n",
            "Use 'sudo apt autoremove' to remove it.\n",
            "The following additional packages will be installed:\n",
            "  libamd2 libcolamd2 libglpk40 libsuitesparseconfig5\n",
            "Suggested packages:\n",
            "  libiodbc2-dev\n",
            "The following NEW packages will be installed:\n",
            "  glpk-utils libamd2 libcolamd2 libglpk40 libsuitesparseconfig5\n",
            "0 upgraded, 5 newly installed, 0 to remove and 20 not upgraded.\n",
            "Need to get 692 kB of archives.\n",
            "After this operation, 1,664 kB of additional disk space will be used.\n",
            "Get:1 http://archive.ubuntu.com/ubuntu bionic/main amd64 libsuitesparseconfig5 amd64 1:5.1.2-2 [9,044 B]\n",
            "Get:2 http://archive.ubuntu.com/ubuntu bionic/main amd64 libamd2 amd64 1:5.1.2-2 [19.5 kB]\n",
            "Get:3 http://archive.ubuntu.com/ubuntu bionic/main amd64 libcolamd2 amd64 1:5.1.2-2 [16.2 kB]\n",
            "Get:4 http://archive.ubuntu.com/ubuntu bionic/universe amd64 libglpk40 amd64 4.65-1 [378 kB]\n",
            "Get:5 http://archive.ubuntu.com/ubuntu bionic/universe amd64 glpk-utils amd64 4.65-1 [269 kB]\n",
            "Fetched 692 kB in 1s (1,116 kB/s)\n",
            "debconf: unable to initialize frontend: Dialog\n",
            "debconf: (No usable dialog-like program is installed, so the dialog based frontend cannot be used. at /usr/share/perl5/Debconf/FrontEnd/Dialog.pm line 76, <> line 5.)\n",
            "debconf: falling back to frontend: Readline\n",
            "debconf: unable to initialize frontend: Readline\n",
            "debconf: (This frontend requires a controlling tty.)\n",
            "debconf: falling back to frontend: Teletype\n",
            "dpkg-preconfigure: unable to re-open stdin: \n",
            "Selecting previously unselected package libsuitesparseconfig5:amd64.\n",
            "(Reading database ... 155569 files and directories currently installed.)\n",
            "Preparing to unpack .../libsuitesparseconfig5_1%3a5.1.2-2_amd64.deb ...\n",
            "Unpacking libsuitesparseconfig5:amd64 (1:5.1.2-2) ...\n",
            "Selecting previously unselected package libamd2:amd64.\n",
            "Preparing to unpack .../libamd2_1%3a5.1.2-2_amd64.deb ...\n",
            "Unpacking libamd2:amd64 (1:5.1.2-2) ...\n",
            "Selecting previously unselected package libcolamd2:amd64.\n",
            "Preparing to unpack .../libcolamd2_1%3a5.1.2-2_amd64.deb ...\n",
            "Unpacking libcolamd2:amd64 (1:5.1.2-2) ...\n",
            "Selecting previously unselected package libglpk40:amd64.\n",
            "Preparing to unpack .../libglpk40_4.65-1_amd64.deb ...\n",
            "Unpacking libglpk40:amd64 (4.65-1) ...\n",
            "Selecting previously unselected package glpk-utils.\n",
            "Preparing to unpack .../glpk-utils_4.65-1_amd64.deb ...\n",
            "Unpacking glpk-utils (4.65-1) ...\n",
            "Setting up libsuitesparseconfig5:amd64 (1:5.1.2-2) ...\n",
            "Setting up libcolamd2:amd64 (1:5.1.2-2) ...\n",
            "Setting up libamd2:amd64 (1:5.1.2-2) ...\n",
            "Setting up libglpk40:amd64 (4.65-1) ...\n",
            "Setting up glpk-utils (4.65-1) ...\n",
            "Processing triggers for libc-bin (2.27-3ubuntu1.5) ...\n",
            "Processing triggers for man-db (2.8.3-2ubuntu0.1) ...\n",
            "Reading package lists... Done\n",
            "Building dependency tree       \n",
            "Reading state information... Done\n",
            "The following package was automatically installed and is no longer required:\n",
            "  libnvidia-common-460\n",
            "Use 'sudo apt autoremove' to remove it.\n",
            "The following additional packages will be installed:\n",
            "  coinor-libcbc3 coinor-libcgl1 coinor-libclp1 coinor-libcoinutils3v5\n",
            "  coinor-libosi1v5\n",
            "The following NEW packages will be installed:\n",
            "  coinor-cbc coinor-libcbc3 coinor-libcgl1 coinor-libclp1\n",
            "  coinor-libcoinutils3v5 coinor-libosi1v5\n",
            "0 upgraded, 6 newly installed, 0 to remove and 20 not upgraded.\n",
            "Need to get 2,737 kB of archives.\n",
            "After this operation, 8,130 kB of additional disk space will be used.\n",
            "Get:1 http://archive.ubuntu.com/ubuntu bionic/universe amd64 coinor-libcoinutils3v5 amd64 2.10.14+repack1-1 [472 kB]\n",
            "Get:2 http://archive.ubuntu.com/ubuntu bionic/universe amd64 coinor-libosi1v5 amd64 0.107.9+repack1-1 [270 kB]\n",
            "Get:3 http://archive.ubuntu.com/ubuntu bionic/universe amd64 coinor-libclp1 amd64 1.16.11+repack1-1 [863 kB]\n",
            "Get:4 http://archive.ubuntu.com/ubuntu bionic/universe amd64 coinor-libcgl1 amd64 0.59.10+repack1-1 [433 kB]\n",
            "Get:5 http://archive.ubuntu.com/ubuntu bionic/universe amd64 coinor-libcbc3 amd64 2.9.9+repack1-1 [687 kB]\n",
            "Get:6 http://archive.ubuntu.com/ubuntu bionic/universe amd64 coinor-cbc amd64 2.9.9+repack1-1 [11.2 kB]\n",
            "Fetched 2,737 kB in 1s (3,368 kB/s)\n",
            "debconf: unable to initialize frontend: Dialog\n",
            "debconf: (No usable dialog-like program is installed, so the dialog based frontend cannot be used. at /usr/share/perl5/Debconf/FrontEnd/Dialog.pm line 76, <> line 6.)\n",
            "debconf: falling back to frontend: Readline\n",
            "debconf: unable to initialize frontend: Readline\n",
            "debconf: (This frontend requires a controlling tty.)\n",
            "debconf: falling back to frontend: Teletype\n",
            "dpkg-preconfigure: unable to re-open stdin: \n",
            "Selecting previously unselected package coinor-libcoinutils3v5.\n",
            "(Reading database ... 155772 files and directories currently installed.)\n",
            "Preparing to unpack .../0-coinor-libcoinutils3v5_2.10.14+repack1-1_amd64.deb ...\n",
            "Unpacking coinor-libcoinutils3v5 (2.10.14+repack1-1) ...\n",
            "Selecting previously unselected package coinor-libosi1v5.\n",
            "Preparing to unpack .../1-coinor-libosi1v5_0.107.9+repack1-1_amd64.deb ...\n",
            "Unpacking coinor-libosi1v5 (0.107.9+repack1-1) ...\n",
            "Selecting previously unselected package coinor-libclp1.\n",
            "Preparing to unpack .../2-coinor-libclp1_1.16.11+repack1-1_amd64.deb ...\n",
            "Unpacking coinor-libclp1 (1.16.11+repack1-1) ...\n",
            "Selecting previously unselected package coinor-libcgl1.\n",
            "Preparing to unpack .../3-coinor-libcgl1_0.59.10+repack1-1_amd64.deb ...\n",
            "Unpacking coinor-libcgl1 (0.59.10+repack1-1) ...\n",
            "Selecting previously unselected package coinor-libcbc3.\n",
            "Preparing to unpack .../4-coinor-libcbc3_2.9.9+repack1-1_amd64.deb ...\n",
            "Unpacking coinor-libcbc3 (2.9.9+repack1-1) ...\n",
            "Selecting previously unselected package coinor-cbc.\n",
            "Preparing to unpack .../5-coinor-cbc_2.9.9+repack1-1_amd64.deb ...\n",
            "Unpacking coinor-cbc (2.9.9+repack1-1) ...\n",
            "Setting up coinor-libcoinutils3v5 (2.10.14+repack1-1) ...\n",
            "Setting up coinor-libosi1v5 (0.107.9+repack1-1) ...\n",
            "Setting up coinor-libclp1 (1.16.11+repack1-1) ...\n",
            "Setting up coinor-libcgl1 (0.59.10+repack1-1) ...\n",
            "Setting up coinor-libcbc3 (2.9.9+repack1-1) ...\n",
            "Setting up coinor-cbc (2.9.9+repack1-1) ...\n",
            "Processing triggers for man-db (2.8.3-2ubuntu0.1) ...\n",
            "Processing triggers for libc-bin (2.27-3ubuntu1.5) ...\n"
          ]
        }
      ],
      "source": [
        "# install packages - note some are Linux installs\n",
        "!pip install pulp                  # PuLP\n",
        "!sudo apt-get install glpk-utils  # GLPK\n",
        "!sudo apt-get install coinor-cbc  # CoinOR"
      ]
    },
    {
      "cell_type": "markdown",
      "source": [
        "Our problem is to optimise the cost of school dinner provisions while keeping to a minimum level of nutrition. As such it belongs in the category of discrete optimisation (as we have a discrete set of options to pick from).\n",
        "\n",
        "We'll start by importing the package (PuLP) and the data:"
      ],
      "metadata": {
        "id": "_Pi3f89OosVC"
      }
    },
    {
      "cell_type": "code",
      "source": [
        "import pandas as pd\n",
        "from pulp import *\n",
        "\n",
        "# upload a file into Colab - \"school_food.xlsx\" from the Moodle.\n",
        "from google.colab import files\n",
        "files.upload()"
      ],
      "metadata": {
        "colab": {
          "base_uri": "https://localhost:8080/",
          "height": 259
        },
        "id": "KBjgNsYCpJXV",
        "outputId": "6684f8d3-024c-486d-ade6-5b1f868c0f72"
      },
      "execution_count": 2,
      "outputs": [
        {
          "output_type": "display_data",
          "data": {
            "text/plain": [
              "<IPython.core.display.HTML object>"
            ],
            "text/html": [
              "\n",
              "     <input type=\"file\" id=\"files-a199bf42-cdd0-44c7-b67d-435baa0bca3e\" name=\"files[]\" multiple disabled\n",
              "        style=\"border:none\" />\n",
              "     <output id=\"result-a199bf42-cdd0-44c7-b67d-435baa0bca3e\">\n",
              "      Upload widget is only available when the cell has been executed in the\n",
              "      current browser session. Please rerun this cell to enable.\n",
              "      </output>\n",
              "      <script>// Copyright 2017 Google LLC\n",
              "//\n",
              "// Licensed under the Apache License, Version 2.0 (the \"License\");\n",
              "// you may not use this file except in compliance with the License.\n",
              "// You may obtain a copy of the License at\n",
              "//\n",
              "//      http://www.apache.org/licenses/LICENSE-2.0\n",
              "//\n",
              "// Unless required by applicable law or agreed to in writing, software\n",
              "// distributed under the License is distributed on an \"AS IS\" BASIS,\n",
              "// WITHOUT WARRANTIES OR CONDITIONS OF ANY KIND, either express or implied.\n",
              "// See the License for the specific language governing permissions and\n",
              "// limitations under the License.\n",
              "\n",
              "/**\n",
              " * @fileoverview Helpers for google.colab Python module.\n",
              " */\n",
              "(function(scope) {\n",
              "function span(text, styleAttributes = {}) {\n",
              "  const element = document.createElement('span');\n",
              "  element.textContent = text;\n",
              "  for (const key of Object.keys(styleAttributes)) {\n",
              "    element.style[key] = styleAttributes[key];\n",
              "  }\n",
              "  return element;\n",
              "}\n",
              "\n",
              "// Max number of bytes which will be uploaded at a time.\n",
              "const MAX_PAYLOAD_SIZE = 100 * 1024;\n",
              "\n",
              "function _uploadFiles(inputId, outputId) {\n",
              "  const steps = uploadFilesStep(inputId, outputId);\n",
              "  const outputElement = document.getElementById(outputId);\n",
              "  // Cache steps on the outputElement to make it available for the next call\n",
              "  // to uploadFilesContinue from Python.\n",
              "  outputElement.steps = steps;\n",
              "\n",
              "  return _uploadFilesContinue(outputId);\n",
              "}\n",
              "\n",
              "// This is roughly an async generator (not supported in the browser yet),\n",
              "// where there are multiple asynchronous steps and the Python side is going\n",
              "// to poll for completion of each step.\n",
              "// This uses a Promise to block the python side on completion of each step,\n",
              "// then passes the result of the previous step as the input to the next step.\n",
              "function _uploadFilesContinue(outputId) {\n",
              "  const outputElement = document.getElementById(outputId);\n",
              "  const steps = outputElement.steps;\n",
              "\n",
              "  const next = steps.next(outputElement.lastPromiseValue);\n",
              "  return Promise.resolve(next.value.promise).then((value) => {\n",
              "    // Cache the last promise value to make it available to the next\n",
              "    // step of the generator.\n",
              "    outputElement.lastPromiseValue = value;\n",
              "    return next.value.response;\n",
              "  });\n",
              "}\n",
              "\n",
              "/**\n",
              " * Generator function which is called between each async step of the upload\n",
              " * process.\n",
              " * @param {string} inputId Element ID of the input file picker element.\n",
              " * @param {string} outputId Element ID of the output display.\n",
              " * @return {!Iterable<!Object>} Iterable of next steps.\n",
              " */\n",
              "function* uploadFilesStep(inputId, outputId) {\n",
              "  const inputElement = document.getElementById(inputId);\n",
              "  inputElement.disabled = false;\n",
              "\n",
              "  const outputElement = document.getElementById(outputId);\n",
              "  outputElement.innerHTML = '';\n",
              "\n",
              "  const pickedPromise = new Promise((resolve) => {\n",
              "    inputElement.addEventListener('change', (e) => {\n",
              "      resolve(e.target.files);\n",
              "    });\n",
              "  });\n",
              "\n",
              "  const cancel = document.createElement('button');\n",
              "  inputElement.parentElement.appendChild(cancel);\n",
              "  cancel.textContent = 'Cancel upload';\n",
              "  const cancelPromise = new Promise((resolve) => {\n",
              "    cancel.onclick = () => {\n",
              "      resolve(null);\n",
              "    };\n",
              "  });\n",
              "\n",
              "  // Wait for the user to pick the files.\n",
              "  const files = yield {\n",
              "    promise: Promise.race([pickedPromise, cancelPromise]),\n",
              "    response: {\n",
              "      action: 'starting',\n",
              "    }\n",
              "  };\n",
              "\n",
              "  cancel.remove();\n",
              "\n",
              "  // Disable the input element since further picks are not allowed.\n",
              "  inputElement.disabled = true;\n",
              "\n",
              "  if (!files) {\n",
              "    return {\n",
              "      response: {\n",
              "        action: 'complete',\n",
              "      }\n",
              "    };\n",
              "  }\n",
              "\n",
              "  for (const file of files) {\n",
              "    const li = document.createElement('li');\n",
              "    li.append(span(file.name, {fontWeight: 'bold'}));\n",
              "    li.append(span(\n",
              "        `(${file.type || 'n/a'}) - ${file.size} bytes, ` +\n",
              "        `last modified: ${\n",
              "            file.lastModifiedDate ? file.lastModifiedDate.toLocaleDateString() :\n",
              "                                    'n/a'} - `));\n",
              "    const percent = span('0% done');\n",
              "    li.appendChild(percent);\n",
              "\n",
              "    outputElement.appendChild(li);\n",
              "\n",
              "    const fileDataPromise = new Promise((resolve) => {\n",
              "      const reader = new FileReader();\n",
              "      reader.onload = (e) => {\n",
              "        resolve(e.target.result);\n",
              "      };\n",
              "      reader.readAsArrayBuffer(file);\n",
              "    });\n",
              "    // Wait for the data to be ready.\n",
              "    let fileData = yield {\n",
              "      promise: fileDataPromise,\n",
              "      response: {\n",
              "        action: 'continue',\n",
              "      }\n",
              "    };\n",
              "\n",
              "    // Use a chunked sending to avoid message size limits. See b/62115660.\n",
              "    let position = 0;\n",
              "    do {\n",
              "      const length = Math.min(fileData.byteLength - position, MAX_PAYLOAD_SIZE);\n",
              "      const chunk = new Uint8Array(fileData, position, length);\n",
              "      position += length;\n",
              "\n",
              "      const base64 = btoa(String.fromCharCode.apply(null, chunk));\n",
              "      yield {\n",
              "        response: {\n",
              "          action: 'append',\n",
              "          file: file.name,\n",
              "          data: base64,\n",
              "        },\n",
              "      };\n",
              "\n",
              "      let percentDone = fileData.byteLength === 0 ?\n",
              "          100 :\n",
              "          Math.round((position / fileData.byteLength) * 100);\n",
              "      percent.textContent = `${percentDone}% done`;\n",
              "\n",
              "    } while (position < fileData.byteLength);\n",
              "  }\n",
              "\n",
              "  // All done.\n",
              "  yield {\n",
              "    response: {\n",
              "      action: 'complete',\n",
              "    }\n",
              "  };\n",
              "}\n",
              "\n",
              "scope.google = scope.google || {};\n",
              "scope.google.colab = scope.google.colab || {};\n",
              "scope.google.colab._files = {\n",
              "  _uploadFiles,\n",
              "  _uploadFilesContinue,\n",
              "};\n",
              "})(self);\n",
              "</script> "
            ]
          },
          "metadata": {}
        },
        {
          "output_type": "stream",
          "name": "stdout",
          "text": [
            "Saving school_food.csv to school_food.csv\n"
          ]
        },
        {
          "output_type": "execute_result",
          "data": {
            "text/plain": [
              "{'school_food.csv': b'\\xef\\xbb\\xbfFoods,Price/Serving,Serving Size,Calories,Cholesterol (mg),Total_Fat (g),Sodium (mg),Carbohydrates (g),Dietary_Fiber (g),Protein (g),Vit_A (IU),Vit_C (IU),Calcium (mg),Iron (mg)\\r\\nFrozen Broccoli,0.48,10 Oz Pkg,73.8,0,0.8,68.2,13.6,8.5,8,5867.4,160.2,159,2.3\\r\\nFrozen Corn,0.54,1/2 Cup,72.2,0,0.6,2.5,17.1,2,2.5,106.6,5.2,3.3,0.3\\r\\nRaw Lettuce Iceberg,0.06,1 Leaf,2.6,0,0,1.8,0.4,0.3,0.2,66,0.8,3.8,0.1\\r\\n Baked Potatoes,0.18,1/2 Cup,171.5,0,0.2,15.2,39.9,3.2,3.7,0,15.6,22.7,4.3\\r\\nTofu,0.93,1/4 block,88.2,0,5.5,8.1,2.2,1.4,9.4,98.6,0.1,121.8,6.2\\r\\nRoasted Chicken,2.52,1 lb chicken,277.4,129.9,10.8,125.6,0,0,42.2,77.4,0,21.9,1.8\\r\\nSpaghetti W/ Sauce,2.34,1 1/2 Cup,358.2,0,12.3,1237.1,58.3,11.6,8.2,3055.2,27.9,80.2,2.3\\r\\nRaw Apple,0.72,\"1 Fruit,3/Lb,Wo/Rf\",81.4,0,0.5,0,21,3.7,0.3,73.1,7.9,9.7,0.2\\r\\nBanana,0.45,\"1 Fruit,Wo/Skn&Seeds\",104.9,0,0.5,1.1,26.7,2.7,1.2,92.3,10.4,6.8,0.4\\r\\nWheat Bread,0.15,1 Sl,65,0,1,134.5,12.4,1.3,2.2,0,0,10.8,0.7\\r\\nWhite Bread,0.18,1 Sl,65,0,1,132.5,11.8,1.1,2.3,0,0,26.2,0.8\\r\\nOatmeal Cookies,0.27,1 Cookie,81,0,3.3,68.9,12.4,0.6,1.1,2.9,0.1,6.7,0.5\\r\\nApple Pie,0.48,1 Oz,67.2,0,3.1,75.4,9.6,0.5,0.5,35.2,0.9,3.1,0.1\\r\\nScrambled Eggs,0.33,1 Egg,99.6,211.2,7.3,168,1.3,0,6.7,409.2,0.1,42.6,0.7\\r\\nTurkey Bologna,0.45,1 Oz,56.4,28.1,4.3,248.9,0.3,0,3.9,0,0,23.8,0.4\\r\\nBeef Frankfurter,0.81,1 Frankfurter,141.8,27.4,12.8,461.7,0.8,0,5.4,0,10.8,9,0.6\\r\\nChocolate Chip Cookies,0.09,1 Cookie,78.1,5.1,4.5,57.8,9.3,0,0.9,101.8,0,6.2,0.4\\r\\n'}"
            ]
          },
          "metadata": {},
          "execution_count": 2
        }
      ]
    },
    {
      "cell_type": "code",
      "source": [
        "df = pd.read_csv(\"/content/school_food.csv\") # Colab saves uploaded files to ~/content/\n",
        "df.head()"
      ],
      "metadata": {
        "colab": {
          "base_uri": "https://localhost:8080/",
          "height": 285
        },
        "id": "_jHEsff-plmv",
        "outputId": "d38321b4-d108-46e4-b1b6-a6f2962fc961"
      },
      "execution_count": 3,
      "outputs": [
        {
          "output_type": "execute_result",
          "data": {
            "text/plain": [
              "                 Foods  Price/Serving Serving Size  Calories  \\\n",
              "0      Frozen Broccoli           0.48    10 Oz Pkg      73.8   \n",
              "1          Frozen Corn           0.54      1/2 Cup      72.2   \n",
              "2  Raw Lettuce Iceberg           0.06       1 Leaf       2.6   \n",
              "3       Baked Potatoes           0.18      1/2 Cup     171.5   \n",
              "4                 Tofu           0.93    1/4 block      88.2   \n",
              "\n",
              "   Cholesterol (mg)  Total_Fat (g)  Sodium (mg)  Carbohydrates (g)  \\\n",
              "0               0.0            0.8         68.2               13.6   \n",
              "1               0.0            0.6          2.5               17.1   \n",
              "2               0.0            0.0          1.8                0.4   \n",
              "3               0.0            0.2         15.2               39.9   \n",
              "4               0.0            5.5          8.1                2.2   \n",
              "\n",
              "   Dietary_Fiber (g)  Protein (g)  Vit_A (IU)  Vit_C (IU)  Calcium (mg)  \\\n",
              "0                8.5          8.0      5867.4       160.2         159.0   \n",
              "1                2.0          2.5       106.6         5.2           3.3   \n",
              "2                0.3          0.2        66.0         0.8           3.8   \n",
              "3                3.2          3.7         0.0        15.6          22.7   \n",
              "4                1.4          9.4        98.6         0.1         121.8   \n",
              "\n",
              "   Iron (mg)  \n",
              "0        2.3  \n",
              "1        0.3  \n",
              "2        0.1  \n",
              "3        4.3  \n",
              "4        6.2  "
            ],
            "text/html": [
              "\n",
              "  <div id=\"df-4981a167-d336-46b2-abe5-1487ae7b2271\">\n",
              "    <div class=\"colab-df-container\">\n",
              "      <div>\n",
              "<style scoped>\n",
              "    .dataframe tbody tr th:only-of-type {\n",
              "        vertical-align: middle;\n",
              "    }\n",
              "\n",
              "    .dataframe tbody tr th {\n",
              "        vertical-align: top;\n",
              "    }\n",
              "\n",
              "    .dataframe thead th {\n",
              "        text-align: right;\n",
              "    }\n",
              "</style>\n",
              "<table border=\"1\" class=\"dataframe\">\n",
              "  <thead>\n",
              "    <tr style=\"text-align: right;\">\n",
              "      <th></th>\n",
              "      <th>Foods</th>\n",
              "      <th>Price/Serving</th>\n",
              "      <th>Serving Size</th>\n",
              "      <th>Calories</th>\n",
              "      <th>Cholesterol (mg)</th>\n",
              "      <th>Total_Fat (g)</th>\n",
              "      <th>Sodium (mg)</th>\n",
              "      <th>Carbohydrates (g)</th>\n",
              "      <th>Dietary_Fiber (g)</th>\n",
              "      <th>Protein (g)</th>\n",
              "      <th>Vit_A (IU)</th>\n",
              "      <th>Vit_C (IU)</th>\n",
              "      <th>Calcium (mg)</th>\n",
              "      <th>Iron (mg)</th>\n",
              "    </tr>\n",
              "  </thead>\n",
              "  <tbody>\n",
              "    <tr>\n",
              "      <th>0</th>\n",
              "      <td>Frozen Broccoli</td>\n",
              "      <td>0.48</td>\n",
              "      <td>10 Oz Pkg</td>\n",
              "      <td>73.8</td>\n",
              "      <td>0.0</td>\n",
              "      <td>0.8</td>\n",
              "      <td>68.2</td>\n",
              "      <td>13.6</td>\n",
              "      <td>8.5</td>\n",
              "      <td>8.0</td>\n",
              "      <td>5867.4</td>\n",
              "      <td>160.2</td>\n",
              "      <td>159.0</td>\n",
              "      <td>2.3</td>\n",
              "    </tr>\n",
              "    <tr>\n",
              "      <th>1</th>\n",
              "      <td>Frozen Corn</td>\n",
              "      <td>0.54</td>\n",
              "      <td>1/2 Cup</td>\n",
              "      <td>72.2</td>\n",
              "      <td>0.0</td>\n",
              "      <td>0.6</td>\n",
              "      <td>2.5</td>\n",
              "      <td>17.1</td>\n",
              "      <td>2.0</td>\n",
              "      <td>2.5</td>\n",
              "      <td>106.6</td>\n",
              "      <td>5.2</td>\n",
              "      <td>3.3</td>\n",
              "      <td>0.3</td>\n",
              "    </tr>\n",
              "    <tr>\n",
              "      <th>2</th>\n",
              "      <td>Raw Lettuce Iceberg</td>\n",
              "      <td>0.06</td>\n",
              "      <td>1 Leaf</td>\n",
              "      <td>2.6</td>\n",
              "      <td>0.0</td>\n",
              "      <td>0.0</td>\n",
              "      <td>1.8</td>\n",
              "      <td>0.4</td>\n",
              "      <td>0.3</td>\n",
              "      <td>0.2</td>\n",
              "      <td>66.0</td>\n",
              "      <td>0.8</td>\n",
              "      <td>3.8</td>\n",
              "      <td>0.1</td>\n",
              "    </tr>\n",
              "    <tr>\n",
              "      <th>3</th>\n",
              "      <td>Baked Potatoes</td>\n",
              "      <td>0.18</td>\n",
              "      <td>1/2 Cup</td>\n",
              "      <td>171.5</td>\n",
              "      <td>0.0</td>\n",
              "      <td>0.2</td>\n",
              "      <td>15.2</td>\n",
              "      <td>39.9</td>\n",
              "      <td>3.2</td>\n",
              "      <td>3.7</td>\n",
              "      <td>0.0</td>\n",
              "      <td>15.6</td>\n",
              "      <td>22.7</td>\n",
              "      <td>4.3</td>\n",
              "    </tr>\n",
              "    <tr>\n",
              "      <th>4</th>\n",
              "      <td>Tofu</td>\n",
              "      <td>0.93</td>\n",
              "      <td>1/4 block</td>\n",
              "      <td>88.2</td>\n",
              "      <td>0.0</td>\n",
              "      <td>5.5</td>\n",
              "      <td>8.1</td>\n",
              "      <td>2.2</td>\n",
              "      <td>1.4</td>\n",
              "      <td>9.4</td>\n",
              "      <td>98.6</td>\n",
              "      <td>0.1</td>\n",
              "      <td>121.8</td>\n",
              "      <td>6.2</td>\n",
              "    </tr>\n",
              "  </tbody>\n",
              "</table>\n",
              "</div>\n",
              "      <button class=\"colab-df-convert\" onclick=\"convertToInteractive('df-4981a167-d336-46b2-abe5-1487ae7b2271')\"\n",
              "              title=\"Convert this dataframe to an interactive table.\"\n",
              "              style=\"display:none;\">\n",
              "        \n",
              "  <svg xmlns=\"http://www.w3.org/2000/svg\" height=\"24px\"viewBox=\"0 0 24 24\"\n",
              "       width=\"24px\">\n",
              "    <path d=\"M0 0h24v24H0V0z\" fill=\"none\"/>\n",
              "    <path d=\"M18.56 5.44l.94 2.06.94-2.06 2.06-.94-2.06-.94-.94-2.06-.94 2.06-2.06.94zm-11 1L8.5 8.5l.94-2.06 2.06-.94-2.06-.94L8.5 2.5l-.94 2.06-2.06.94zm10 10l.94 2.06.94-2.06 2.06-.94-2.06-.94-.94-2.06-.94 2.06-2.06.94z\"/><path d=\"M17.41 7.96l-1.37-1.37c-.4-.4-.92-.59-1.43-.59-.52 0-1.04.2-1.43.59L10.3 9.45l-7.72 7.72c-.78.78-.78 2.05 0 2.83L4 21.41c.39.39.9.59 1.41.59.51 0 1.02-.2 1.41-.59l7.78-7.78 2.81-2.81c.8-.78.8-2.07 0-2.86zM5.41 20L4 18.59l7.72-7.72 1.47 1.35L5.41 20z\"/>\n",
              "  </svg>\n",
              "      </button>\n",
              "      \n",
              "  <style>\n",
              "    .colab-df-container {\n",
              "      display:flex;\n",
              "      flex-wrap:wrap;\n",
              "      gap: 12px;\n",
              "    }\n",
              "\n",
              "    .colab-df-convert {\n",
              "      background-color: #E8F0FE;\n",
              "      border: none;\n",
              "      border-radius: 50%;\n",
              "      cursor: pointer;\n",
              "      display: none;\n",
              "      fill: #1967D2;\n",
              "      height: 32px;\n",
              "      padding: 0 0 0 0;\n",
              "      width: 32px;\n",
              "    }\n",
              "\n",
              "    .colab-df-convert:hover {\n",
              "      background-color: #E2EBFA;\n",
              "      box-shadow: 0px 1px 2px rgba(60, 64, 67, 0.3), 0px 1px 3px 1px rgba(60, 64, 67, 0.15);\n",
              "      fill: #174EA6;\n",
              "    }\n",
              "\n",
              "    [theme=dark] .colab-df-convert {\n",
              "      background-color: #3B4455;\n",
              "      fill: #D2E3FC;\n",
              "    }\n",
              "\n",
              "    [theme=dark] .colab-df-convert:hover {\n",
              "      background-color: #434B5C;\n",
              "      box-shadow: 0px 1px 3px 1px rgba(0, 0, 0, 0.15);\n",
              "      filter: drop-shadow(0px 1px 2px rgba(0, 0, 0, 0.3));\n",
              "      fill: #FFFFFF;\n",
              "    }\n",
              "  </style>\n",
              "\n",
              "      <script>\n",
              "        const buttonEl =\n",
              "          document.querySelector('#df-4981a167-d336-46b2-abe5-1487ae7b2271 button.colab-df-convert');\n",
              "        buttonEl.style.display =\n",
              "          google.colab.kernel.accessAllowed ? 'block' : 'none';\n",
              "\n",
              "        async function convertToInteractive(key) {\n",
              "          const element = document.querySelector('#df-4981a167-d336-46b2-abe5-1487ae7b2271');\n",
              "          const dataTable =\n",
              "            await google.colab.kernel.invokeFunction('convertToInteractive',\n",
              "                                                     [key], {});\n",
              "          if (!dataTable) return;\n",
              "\n",
              "          const docLinkHtml = 'Like what you see? Visit the ' +\n",
              "            '<a target=\"_blank\" href=https://colab.research.google.com/notebooks/data_table.ipynb>data table notebook</a>'\n",
              "            + ' to learn more about interactive tables.';\n",
              "          element.innerHTML = '';\n",
              "          dataTable['output_type'] = 'display_data';\n",
              "          await google.colab.output.renderOutput(dataTable, element);\n",
              "          const docLink = document.createElement('div');\n",
              "          docLink.innerHTML = docLinkHtml;\n",
              "          element.appendChild(docLink);\n",
              "        }\n",
              "      </script>\n",
              "    </div>\n",
              "  </div>\n",
              "  "
            ]
          },
          "metadata": {},
          "execution_count": 3
        }
      ]
    },
    {
      "cell_type": "markdown",
      "source": [
        "Our problem is minimisation (cost) with the following constraints:\n",
        "\n",
        "\n",
        "\n",
        "1.   Fat must be between 20 and 50g\n",
        "2.   Carbs between 130 and 200g\n",
        "3. Fiber(sic.) between 60 and 125g\n",
        "4. Protein between 100 and 150g\n",
        "5. Total calories should be between 800 and 1300kcals\n",
        "\n",
        "Specified mathematically the problem would be:\n",
        "<br><br>\n",
        "$Minimise \\sum C_i \\cdot F_i$\n",
        "<br>$s.t.$<br>\n",
        "$Cals_{lower} \\leq Cals_i \\cdot F_i \\geq Cals_{higher}$ <br>\n",
        "$Fat_{lower} \\leq Fat_i \\cdot F_i \\geq Fat_{higher}$ <br>\n",
        "$Carbs_{lower} \\leq Carbs_i \\cdot F_i \\geq Carbs_{higher}$ <br>\n",
        "$Protein_{lower} \\leq Protein_i \\cdot F_i \\geq Protein_{higher}$ <br><br>\n",
        "\n",
        "To get going we need to get the data setup to work with by making a list and a bunch of dictionaries:\n",
        "\n",
        "\n"
      ],
      "metadata": {
        "id": "O2TcjKpnp0_t"
      }
    },
    {
      "cell_type": "code",
      "source": [
        "# Create a list of the food items\n",
        "food_items = list(df['Foods'])\n",
        "\n",
        "# dictionary of costs per item\n",
        "costs = dict(zip(food_items,df['Price/Serving']))\n",
        "\n",
        "# further dictionaries for constraints\n",
        "calories = dict(zip(food_items,df['Calories']))\n",
        "fat = dict(zip(food_items,df['Total_Fat (g)']))\n",
        "carbs = dict(zip(food_items,df['Carbohydrates (g)']))\n",
        "fibre = dict(zip(food_items,df['Dietary_Fiber (g)'])) # spelling the UK/proper way\n",
        "protein = dict(zip(food_items,df['Protein (g)']))"
      ],
      "metadata": {
        "id": "feZAMfLnvFRB"
      },
      "execution_count": 4,
      "outputs": []
    },
    {
      "cell_type": "markdown",
      "source": [
        "Next we start by specifying the model. We start with the overall function:"
      ],
      "metadata": {
        "id": "-RXm_9wkvunS"
      }
    },
    {
      "cell_type": "code",
      "source": [
        "# Name the problem and the optimisation goal\n",
        "problem = LpProblem(\"School_Dinners\", LpMinimize)"
      ],
      "metadata": {
        "id": "p0tjA5R-vAMN"
      },
      "execution_count": 6,
      "outputs": []
    },
    {
      "cell_type": "markdown",
      "source": [
        "Next we will add the function to be optimised and the constraints. To add the discrete list to the function (_food\\_items_) we need to create a PuLP disctionary variable. Note we list it (for now) as continuous data)"
      ],
      "metadata": {
        "id": "TnVpR7mqwEuo"
      }
    },
    {
      "cell_type": "code",
      "source": [
        "# create a PuLP variable for the food items\n",
        "food_vars = LpVariable.dicts(\"Food\",food_items,0,cat='Continuous')"
      ],
      "metadata": {
        "id": "-j7aEQRyrrRD"
      },
      "execution_count": 7,
      "outputs": []
    },
    {
      "cell_type": "markdown",
      "source": [
        "Now we can these to our problem, along with the constaints and objective function:"
      ],
      "metadata": {
        "id": "C14MZ-7Vw1xn"
      }
    },
    {
      "cell_type": "code",
      "source": [
        "# always add the objective function first\n",
        "problem += lpSum([costs[i]*food_vars[i] for i in food_items]), \"Total Cost\"\n",
        "\n",
        "# constraints\n",
        "problem += lpSum([calories[f] * food_vars[f] for f in food_items]) >= 800.0, \"Min Cals\"\n",
        "problem += lpSum([calories[f] * food_vars[f] for f in food_items]) <= 1300.0, \"Max Cals\"\n",
        "\n",
        "problem += lpSum([fat[f] * food_vars[f] for f in food_items]) >= 20.0, \"Min Fat\"\n",
        "problem += lpSum([fat[f] * food_vars[f] for f in food_items]) <= 50.0, \"Max Fat\"\n",
        "\n",
        "# Carbs\n",
        "problem += lpSum([carbs[f] * food_vars[f] for f in food_items]) >= 130.0, \"Min Carbs\"\n",
        "problem += lpSum([carbs[f] * food_vars[f] for f in food_items]) <= 200.0, \"Max Carbs\"\n",
        "\n",
        "# Fiber\n",
        "problem += lpSum([fibre[f] * food_vars[f] for f in food_items]) >= 60.0, \"Min Fiber\"\n",
        "problem += lpSum([fibre[f] * food_vars[f] for f in food_items]) <= 125.0, \"Max Fibre\"\n",
        "\n",
        "# Protein\n",
        "problem += lpSum([protein[f] * food_vars[f] for f in food_items]) >= 100.0, \"Min Protein\"\n",
        "problem += lpSum([protein[f] * food_vars[f] for f in food_items]) <= 150.0, \"Max Protein\""
      ],
      "metadata": {
        "id": "cPTQrqr8w6_Q"
      },
      "execution_count": 8,
      "outputs": []
    },
    {
      "cell_type": "markdown",
      "source": [
        "With this in place we can solve the problem! PuLP (handily) will pick the best solver for the problem type."
      ],
      "metadata": {
        "id": "ui_XaiOQyNJe"
      }
    },
    {
      "cell_type": "code",
      "source": [
        "problem.solve()\n",
        "print(\"Status:\", LpStatus[problem.status])"
      ],
      "metadata": {
        "colab": {
          "base_uri": "https://localhost:8080/"
        },
        "id": "b0Pne52GyfUj",
        "outputId": "3b736d15-6d7a-4b1d-9585-06c78758cfc4"
      },
      "execution_count": 9,
      "outputs": [
        {
          "output_type": "stream",
          "name": "stdout",
          "text": [
            "Status: Optimal\n"
          ]
        }
      ]
    },
    {
      "cell_type": "markdown",
      "source": [
        "\"Optimal\" status tells us PuLP has been able to sovle out problem (other outcomes could have been \"infeasible\" or \"unbounded\").\n",
        "\n",
        "Finally we can print the final cost and mix of foods:"
      ],
      "metadata": {
        "id": "gRuDpE9Gyn6B"
      }
    },
    {
      "cell_type": "code",
      "source": [
        "print(f\"The total cost is: $ {round(value(problem.objective),2)} .\")\n",
        "\n",
        "print(\"The optimal (minimum cost) of the food consists of:\\n\")\n",
        "for v in problem.variables():\n",
        "    if v.varValue>0:\n",
        "        print(v.name, \"=\", v.varValue)"
      ],
      "metadata": {
        "colab": {
          "base_uri": "https://localhost:8080/"
        },
        "id": "K3X6bJW0zBsc",
        "outputId": "83e33353-4b9a-45f3-c8ef-3c9bd96a5f24"
      },
      "execution_count": 13,
      "outputs": [
        {
          "output_type": "stream",
          "name": "stdout",
          "text": [
            "The total cost is: $ 5.52 .\n",
            "The optimal (minimum cost) of the food consists of:\n",
            "\n",
            "Food_Frozen_Broccoli = 6.9242113\n",
            "Food_Scrambled_Eggs = 6.060891\n",
            "Food__Baked_Potatoes = 1.0806324\n"
          ]
        }
      ]
    },
    {
      "cell_type": "markdown",
      "source": [
        "Problem solved. Let them eat broccoli, eggs and potatoes.\n",
        "\n",
        "However, we may note that we end up with decimal places to work with. This may be harder for the staff to work with. Maybe it would work better if we restrict our values to integers.\n",
        "\n",
        "Although this is is a considerably harder problem mathematically, it is fairly trivial to do in PuLP!"
      ],
      "metadata": {
        "id": "b59HAFtv0MTv"
      }
    },
    {
      "cell_type": "code",
      "source": [
        "# convert to integer programming\n",
        "\n",
        "# create a dictionary of integers rather than continuous data\n",
        "food_integer = LpVariable.dicts(\"Food\", food_items, 0, cat='Integer')\n",
        "\n",
        "# respecify model\n",
        "# Name the problem and the optimisation goal\n",
        "problem_two = LpProblem(\"School_Dinners_Two\", LpMinimize)\n",
        "\n",
        "# always add the objective function first\n",
        "problem_two += lpSum([costs[i]*food_integer[i] for i in food_items]), \"Total Cost\"\n",
        "\n",
        "# constraints\n",
        "problem_two += lpSum([calories[f] * food_integer[f] for f in food_items]) >= 800.0, \"Min Cals\"\n",
        "problem_two += lpSum([calories[f] * food_integer[f] for f in food_items]) <= 1300.0, \"Max Cals\"\n",
        "\n",
        "problem_two += lpSum([fat[f] * food_integer[f] for f in food_items]) >= 20.0, \"Min Fat\"\n",
        "problem_two += lpSum([fat[f] * food_integer[f] for f in food_items]) <= 50.0, \"Max Fat\"\n",
        "\n",
        "# Carbs\n",
        "problem_two += lpSum([carbs[f] * food_integer[f] for f in food_items]) >= 130.0, \"Min Carbs\"\n",
        "problem_two += lpSum([carbs[f] * food_integer[f] for f in food_items]) <= 200.0, \"Max Carbs\"\n",
        "\n",
        "# Fiber\n",
        "problem_two += lpSum([fibre[f] * food_integer[f] for f in food_items]) >= 60.0, \"Min Fiber\"\n",
        "problem_two += lpSum([fibre[f] * food_integer[f] for f in food_items]) <= 125.0, \"Max Fibre\"\n",
        "\n",
        "# Protein\n",
        "problem_two += lpSum([protein[f] * food_integer[f] for f in food_items]) >= 100.0, \"Min Protein\"\n",
        "problem_two += lpSum([protein[f] * food_integer[f] for f in food_items]) <= 150.0, \"Max Protein\"\n",
        "\n",
        "# solve and print\n",
        "problem_two.solve()\n",
        "print(\"Status:\", LpStatus[problem_two.status])\n",
        "\n",
        "print(f\"The total cost is: $ {round(value(problem_two.objective),2)} .\")\n",
        "\n",
        "print(\"The optimal (minimum cost) of the food consists of:\\n\")\n",
        "for v in problem_two.variables():\n",
        "    if v.varValue>0:\n",
        "        print(v.name, \"=\", v.varValue)"
      ],
      "metadata": {
        "colab": {
          "base_uri": "https://localhost:8080/"
        },
        "id": "gJkoWXOG0uHu",
        "outputId": "18bd4653-6f36-4b43-9dcc-4abb870d6c45"
      },
      "execution_count": 15,
      "outputs": [
        {
          "output_type": "stream",
          "name": "stdout",
          "text": [
            "Status: Optimal\n",
            "The total cost is: $ 5.58 .\n",
            "The optimal (minimum cost) of the food consists of:\n",
            "\n",
            "Food_Frozen_Broccoli = 7.0\n",
            "Food_Raw_Lettuce_Iceberg = 1.0\n",
            "Food_Scrambled_Eggs = 6.0\n",
            "Food__Baked_Potatoes = 1.0\n"
          ]
        }
      ]
    },
    {
      "cell_type": "markdown",
      "source": [
        "Now we have a slightly higher cost, but integer values for each (we even get a bit of lettuce thrown in :)"
      ],
      "metadata": {
        "id": "bN1jNuHT1-uX"
      }
    },
    {
      "cell_type": "markdown",
      "source": [
        "## Exercise\n",
        "Update the code to add the following other constraints:\n",
        "\n",
        "\n",
        "*   Cholesterol must be between 30 and 240mg\n",
        "*   Sodium must be between 500 and 2000mg\n",
        "*   Vitamin C must be between 400 and 5000mg\n",
        "\n",
        "How does this change the result?\n"
      ],
      "metadata": {
        "id": "ucaW0jhg2Eq6"
      }
    }
  ]
}