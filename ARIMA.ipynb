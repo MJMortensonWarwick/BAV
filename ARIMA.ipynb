{
  "nbformat": 4,
  "nbformat_minor": 0,
  "metadata": {
    "colab": {
      "provenance": [],
      "collapsed_sections": [],
      "authorship_tag": "ABX9TyMCdh4dXaT1v13iVkV16sb4",
      "include_colab_link": true
    },
    "kernelspec": {
      "name": "python3",
      "display_name": "Python 3"
    },
    "language_info": {
      "name": "python"
    }
  },
  "cells": [
    {
      "cell_type": "markdown",
      "metadata": {
        "id": "view-in-github",
        "colab_type": "text"
      },
      "source": [
        "<a href=\"https://colab.research.google.com/github/MJMortensonWarwick/BAV/blob/main/ARIMA.ipynb\" target=\"_parent\"><img src=\"https://colab.research.google.com/assets/colab-badge.svg\" alt=\"Open In Colab\"/></a>"
      ]
    },
    {
      "cell_type": "markdown",
      "source": [
        "# **ARIMA Forecasting**\n",
        "This notebook shows an implementation of SARIMA (Seasonal AutoRegressive Integrated Moving Average) forecasting."
      ],
      "metadata": {
        "id": "IcOgrG-Vt6HJ"
      }
    },
    {
      "cell_type": "code",
      "execution_count": 1,
      "metadata": {
        "colab": {
          "base_uri": "https://localhost:8080/"
        },
        "id": "x3C178RWt5Oh",
        "outputId": "f1aed328-d01f-4c94-992e-313935b864e1"
      },
      "outputs": [
        {
          "output_type": "stream",
          "name": "stdout",
          "text": [
            "Looking in indexes: https://pypi.org/simple, https://us-python.pkg.dev/colab-wheels/public/simple/\n",
            "Collecting pmdarima\n",
            "  Downloading pmdarima-2.0.1-cp37-cp37m-manylinux_2_17_x86_64.manylinux2014_x86_64.manylinux_2_28_x86_64.whl (1.8 MB)\n",
            "\u001b[K     |████████████████████████████████| 1.8 MB 4.8 MB/s \n",
            "\u001b[?25hRequirement already satisfied: pandas>=0.19 in /usr/local/lib/python3.7/dist-packages (from pmdarima) (1.3.5)\n",
            "Requirement already satisfied: numpy>=1.21 in /usr/local/lib/python3.7/dist-packages (from pmdarima) (1.21.6)\n",
            "Requirement already satisfied: scikit-learn>=0.22 in /usr/local/lib/python3.7/dist-packages (from pmdarima) (1.0.2)\n",
            "Requirement already satisfied: urllib3 in /usr/local/lib/python3.7/dist-packages (from pmdarima) (1.24.3)\n",
            "Requirement already satisfied: setuptools!=50.0.0,>=38.6.0 in /usr/local/lib/python3.7/dist-packages (from pmdarima) (57.4.0)\n",
            "Collecting statsmodels>=0.13.2\n",
            "  Downloading statsmodels-0.13.2-cp37-cp37m-manylinux_2_17_x86_64.manylinux2014_x86_64.whl (9.8 MB)\n",
            "\u001b[K     |████████████████████████████████| 9.8 MB 28.5 MB/s \n",
            "\u001b[?25hRequirement already satisfied: joblib>=0.11 in /usr/local/lib/python3.7/dist-packages (from pmdarima) (1.1.0)\n",
            "Requirement already satisfied: Cython!=0.29.18,!=0.29.31,>=0.29 in /usr/local/lib/python3.7/dist-packages (from pmdarima) (0.29.32)\n",
            "Requirement already satisfied: scipy>=1.3.2 in /usr/local/lib/python3.7/dist-packages (from pmdarima) (1.7.3)\n",
            "Requirement already satisfied: pytz>=2017.3 in /usr/local/lib/python3.7/dist-packages (from pandas>=0.19->pmdarima) (2022.2.1)\n",
            "Requirement already satisfied: python-dateutil>=2.7.3 in /usr/local/lib/python3.7/dist-packages (from pandas>=0.19->pmdarima) (2.8.2)\n",
            "Requirement already satisfied: six>=1.5 in /usr/local/lib/python3.7/dist-packages (from python-dateutil>=2.7.3->pandas>=0.19->pmdarima) (1.15.0)\n",
            "Requirement already satisfied: threadpoolctl>=2.0.0 in /usr/local/lib/python3.7/dist-packages (from scikit-learn>=0.22->pmdarima) (3.1.0)\n",
            "Requirement already satisfied: patsy>=0.5.2 in /usr/local/lib/python3.7/dist-packages (from statsmodels>=0.13.2->pmdarima) (0.5.2)\n",
            "Requirement already satisfied: packaging>=21.3 in /usr/local/lib/python3.7/dist-packages (from statsmodels>=0.13.2->pmdarima) (21.3)\n",
            "Requirement already satisfied: pyparsing!=3.0.5,>=2.0.2 in /usr/local/lib/python3.7/dist-packages (from packaging>=21.3->statsmodels>=0.13.2->pmdarima) (3.0.9)\n",
            "Installing collected packages: statsmodels, pmdarima\n",
            "  Attempting uninstall: statsmodels\n",
            "    Found existing installation: statsmodels 0.12.2\n",
            "    Uninstalling statsmodels-0.12.2:\n",
            "      Successfully uninstalled statsmodels-0.12.2\n",
            "Successfully installed pmdarima-2.0.1 statsmodels-0.13.2\n"
          ]
        }
      ],
      "source": [
        "!pip install pmdarima"
      ]
    },
    {
      "cell_type": "code",
      "source": [
        "import pandas as pd\n",
        "import numpy as np"
      ],
      "metadata": {
        "id": "514diPZv_x8C"
      },
      "execution_count": 2,
      "outputs": []
    },
    {
      "cell_type": "code",
      "source": [
        "# add data to a DataFrame\n",
        "data = {\"Date\": [\"2019/01/01\", \"2019/04/01\", \"2019/07/01\", \"2019/10/01\", \"2020/01/01\", \"2020/04/01\", \"2020/07/01\", \"2020/10/01\", \\\n",
        "                 \"2021/01/01\", \"2021/04/01\", \"2021/07/01\", \"2021/10/01\", \"2022/01/01\", \"2022/04/01\", \"2022/07/01\", \"2022/10/01\"], \\\n",
        "        \"Sales\": [74841.05, 70324.32, 59015.98, 53238.89, 87975.75, 79821.83, 77859.29, 67409.31, 108694.5, 104969.2, 92850.5, \\\n",
        "                  80098.5, 138898.0, 115678.0, 102534.0, 95432.0]}\n",
        "\n",
        "df = pd.DataFrame(data)\n",
        "df.tail()"
      ],
      "metadata": {
        "colab": {
          "base_uri": "https://localhost:8080/",
          "height": 206
        },
        "id": "c5i7gdxEuY_I",
        "outputId": "986acf88-5cd1-4bc0-8395-a34f3843a376"
      },
      "execution_count": 3,
      "outputs": [
        {
          "output_type": "execute_result",
          "data": {
            "text/plain": [
              "          Date     Sales\n",
              "11  2021/10/01   80098.5\n",
              "12  2022/01/01  138898.0\n",
              "13  2022/04/01  115678.0\n",
              "14  2022/07/01  102534.0\n",
              "15  2022/10/01   95432.0"
            ],
            "text/html": [
              "\n",
              "  <div id=\"df-fca5495f-bc2b-4884-a59d-7e1542feecc3\">\n",
              "    <div class=\"colab-df-container\">\n",
              "      <div>\n",
              "<style scoped>\n",
              "    .dataframe tbody tr th:only-of-type {\n",
              "        vertical-align: middle;\n",
              "    }\n",
              "\n",
              "    .dataframe tbody tr th {\n",
              "        vertical-align: top;\n",
              "    }\n",
              "\n",
              "    .dataframe thead th {\n",
              "        text-align: right;\n",
              "    }\n",
              "</style>\n",
              "<table border=\"1\" class=\"dataframe\">\n",
              "  <thead>\n",
              "    <tr style=\"text-align: right;\">\n",
              "      <th></th>\n",
              "      <th>Date</th>\n",
              "      <th>Sales</th>\n",
              "    </tr>\n",
              "  </thead>\n",
              "  <tbody>\n",
              "    <tr>\n",
              "      <th>11</th>\n",
              "      <td>2021/10/01</td>\n",
              "      <td>80098.5</td>\n",
              "    </tr>\n",
              "    <tr>\n",
              "      <th>12</th>\n",
              "      <td>2022/01/01</td>\n",
              "      <td>138898.0</td>\n",
              "    </tr>\n",
              "    <tr>\n",
              "      <th>13</th>\n",
              "      <td>2022/04/01</td>\n",
              "      <td>115678.0</td>\n",
              "    </tr>\n",
              "    <tr>\n",
              "      <th>14</th>\n",
              "      <td>2022/07/01</td>\n",
              "      <td>102534.0</td>\n",
              "    </tr>\n",
              "    <tr>\n",
              "      <th>15</th>\n",
              "      <td>2022/10/01</td>\n",
              "      <td>95432.0</td>\n",
              "    </tr>\n",
              "  </tbody>\n",
              "</table>\n",
              "</div>\n",
              "      <button class=\"colab-df-convert\" onclick=\"convertToInteractive('df-fca5495f-bc2b-4884-a59d-7e1542feecc3')\"\n",
              "              title=\"Convert this dataframe to an interactive table.\"\n",
              "              style=\"display:none;\">\n",
              "        \n",
              "  <svg xmlns=\"http://www.w3.org/2000/svg\" height=\"24px\"viewBox=\"0 0 24 24\"\n",
              "       width=\"24px\">\n",
              "    <path d=\"M0 0h24v24H0V0z\" fill=\"none\"/>\n",
              "    <path d=\"M18.56 5.44l.94 2.06.94-2.06 2.06-.94-2.06-.94-.94-2.06-.94 2.06-2.06.94zm-11 1L8.5 8.5l.94-2.06 2.06-.94-2.06-.94L8.5 2.5l-.94 2.06-2.06.94zm10 10l.94 2.06.94-2.06 2.06-.94-2.06-.94-.94-2.06-.94 2.06-2.06.94z\"/><path d=\"M17.41 7.96l-1.37-1.37c-.4-.4-.92-.59-1.43-.59-.52 0-1.04.2-1.43.59L10.3 9.45l-7.72 7.72c-.78.78-.78 2.05 0 2.83L4 21.41c.39.39.9.59 1.41.59.51 0 1.02-.2 1.41-.59l7.78-7.78 2.81-2.81c.8-.78.8-2.07 0-2.86zM5.41 20L4 18.59l7.72-7.72 1.47 1.35L5.41 20z\"/>\n",
              "  </svg>\n",
              "      </button>\n",
              "      \n",
              "  <style>\n",
              "    .colab-df-container {\n",
              "      display:flex;\n",
              "      flex-wrap:wrap;\n",
              "      gap: 12px;\n",
              "    }\n",
              "\n",
              "    .colab-df-convert {\n",
              "      background-color: #E8F0FE;\n",
              "      border: none;\n",
              "      border-radius: 50%;\n",
              "      cursor: pointer;\n",
              "      display: none;\n",
              "      fill: #1967D2;\n",
              "      height: 32px;\n",
              "      padding: 0 0 0 0;\n",
              "      width: 32px;\n",
              "    }\n",
              "\n",
              "    .colab-df-convert:hover {\n",
              "      background-color: #E2EBFA;\n",
              "      box-shadow: 0px 1px 2px rgba(60, 64, 67, 0.3), 0px 1px 3px 1px rgba(60, 64, 67, 0.15);\n",
              "      fill: #174EA6;\n",
              "    }\n",
              "\n",
              "    [theme=dark] .colab-df-convert {\n",
              "      background-color: #3B4455;\n",
              "      fill: #D2E3FC;\n",
              "    }\n",
              "\n",
              "    [theme=dark] .colab-df-convert:hover {\n",
              "      background-color: #434B5C;\n",
              "      box-shadow: 0px 1px 3px 1px rgba(0, 0, 0, 0.15);\n",
              "      filter: drop-shadow(0px 1px 2px rgba(0, 0, 0, 0.3));\n",
              "      fill: #FFFFFF;\n",
              "    }\n",
              "  </style>\n",
              "\n",
              "      <script>\n",
              "        const buttonEl =\n",
              "          document.querySelector('#df-fca5495f-bc2b-4884-a59d-7e1542feecc3 button.colab-df-convert');\n",
              "        buttonEl.style.display =\n",
              "          google.colab.kernel.accessAllowed ? 'block' : 'none';\n",
              "\n",
              "        async function convertToInteractive(key) {\n",
              "          const element = document.querySelector('#df-fca5495f-bc2b-4884-a59d-7e1542feecc3');\n",
              "          const dataTable =\n",
              "            await google.colab.kernel.invokeFunction('convertToInteractive',\n",
              "                                                     [key], {});\n",
              "          if (!dataTable) return;\n",
              "\n",
              "          const docLinkHtml = 'Like what you see? Visit the ' +\n",
              "            '<a target=\"_blank\" href=https://colab.research.google.com/notebooks/data_table.ipynb>data table notebook</a>'\n",
              "            + ' to learn more about interactive tables.';\n",
              "          element.innerHTML = '';\n",
              "          dataTable['output_type'] = 'display_data';\n",
              "          await google.colab.output.renderOutput(dataTable, element);\n",
              "          const docLink = document.createElement('div');\n",
              "          docLink.innerHTML = docLinkHtml;\n",
              "          element.appendChild(docLink);\n",
              "        }\n",
              "      </script>\n",
              "    </div>\n",
              "  </div>\n",
              "  "
            ]
          },
          "metadata": {},
          "execution_count": 3
        }
      ]
    },
    {
      "cell_type": "markdown",
      "source": [
        "The package requires the date values to be stored as the index, so we make that transformation and plot the time series:"
      ],
      "metadata": {
        "id": "pLPMpElMxdG8"
      }
    },
    {
      "cell_type": "code",
      "source": [
        "df.set_index(\"Date\", inplace=True) # make Date the index value\n",
        "df.index = pd.to_datetime(df.index) # convert index to a pandas datetime object\n",
        "\n",
        "df.plot() # plot time series"
      ],
      "metadata": {
        "colab": {
          "base_uri": "https://localhost:8080/",
          "height": 296
        },
        "id": "3gHvtEqOxlww",
        "outputId": "4b6d4d5e-f6e2-4654-9851-4cc6f63be6af"
      },
      "execution_count": 4,
      "outputs": [
        {
          "output_type": "execute_result",
          "data": {
            "text/plain": [
              "<matplotlib.axes._subplots.AxesSubplot at 0x7fe5b1af5890>"
            ]
          },
          "metadata": {},
          "execution_count": 4
        },
        {
          "output_type": "display_data",
          "data": {
            "text/plain": [
              "<Figure size 432x288 with 1 Axes>"
            ],
            "image/png": "[encoded data removed]"
          },
          "metadata": {
            "needs_background": "light"
          }
        }
      ]
    },
    {
      "cell_type": "markdown",
      "source": [
        "The data certainly seems to have an increasing trend in it so likely needs differencing. We can check this with an [Augmented Dickey Fuller](https://en.wikipedia.org/wiki/Augmented_Dickey%E2%80%93Fuller_test) (ADF) test via Python's *statsmodel*:"
      ],
      "metadata": {
        "id": "UZR3BKrqykDC"
      }
    },
    {
      "cell_type": "code",
      "source": [
        "from statsmodels.tsa.stattools import adfuller\n",
        "\n",
        "# perform ADF test - autolag with automatically identify the optimal number of lags\n",
        "acf_test = adfuller(df[\"Sales\"], autolag=\"AIC\")\n",
        "\n",
        "# add the ouput to a series with the names of the statistics\n",
        "output = pd.Series(acf_test[0:4], index=[\"Test statistic\", \"p-value\", \"Lags\", \"Observations\"])\n",
        "\n",
        "print(output)"
      ],
      "metadata": {
        "colab": {
          "base_uri": "https://localhost:8080/"
        },
        "id": "cdwCUW_xzBlU",
        "outputId": "bce0f26b-dd7b-44f0-dc85-40b0b6ec0725"
      },
      "execution_count": 5,
      "outputs": [
        {
          "output_type": "stream",
          "name": "stdout",
          "text": [
            "Test statistic   -456.054572\n",
            "p-value             0.000000\n",
            "Lags                6.000000\n",
            "Observations        9.000000\n",
            "dtype: float64\n"
          ]
        }
      ]
    },
    {
      "cell_type": "markdown",
      "source": [
        "In this instance we can reject the null hypothesis (the data is stationary). We can interpret this as being due to two factors - the visible trand being slight and (probably most importantly) the number of observations being small (p-values and hypothesis tests are impacted by small sample sizes). \n",
        "\n",
        "Even though the hypothesis test suggest not to, let's difference the data anyway - partly to show how its done and partly because we think the trend may be there:"
      ],
      "metadata": {
        "id": "DVKIR21H0iiR"
      }
    },
    {
      "cell_type": "code",
      "source": [
        "# first order difference\n",
        "df[\"diff_1\"] = df[\"Sales\"].diff()\n",
        "\n",
        "# second order difference - won't be used but here for reference\n",
        "df[\"diff_2\"] = df[\"diff_1\"].diff()\n",
        "\n",
        "df[\"diff_1\"].plot()"
      ],
      "metadata": {
        "colab": {
          "base_uri": "https://localhost:8080/",
          "height": 296
        },
        "id": "aamFbZHo1hGl",
        "outputId": "ad48cf42-ac67-49c5-e0ed-e68ee1c3d3b0"
      },
      "execution_count": 6,
      "outputs": [
        {
          "output_type": "execute_result",
          "data": {
            "text/plain": [
              "<matplotlib.axes._subplots.AxesSubplot at 0x7fe5a44b6a50>"
            ]
          },
          "metadata": {},
          "execution_count": 6
        },
        {
          "output_type": "display_data",
          "data": {
            "text/plain": [
              "<Figure size 432x288 with 1 Axes>"
            ],
            "image/png": "[encoded data removed]"
          },
          "metadata": {
            "needs_background": "light"
          }
        }
      ]
    },
    {
      "cell_type": "markdown",
      "source": [
        "We seem to have now removed the trend! Let's inspect the DataFrame:"
      ],
      "metadata": {
        "id": "8NahZvqT39Ux"
      }
    },
    {
      "cell_type": "code",
      "source": [
        "df.head()"
      ],
      "metadata": {
        "colab": {
          "base_uri": "https://localhost:8080/",
          "height": 238
        },
        "id": "p30BDgQL4EL-",
        "outputId": "ddf2344e-5654-443e-e21f-0404fee130d0"
      },
      "execution_count": 7,
      "outputs": [
        {
          "output_type": "execute_result",
          "data": {
            "text/plain": [
              "               Sales    diff_1    diff_2\n",
              "Date                                    \n",
              "2019-01-01  74841.05       NaN       NaN\n",
              "2019-04-01  70324.32  -4516.73       NaN\n",
              "2019-07-01  59015.98 -11308.34  -6791.61\n",
              "2019-10-01  53238.89  -5777.09   5531.25\n",
              "2020-01-01  87975.75  34736.86  40513.95"
            ],
            "text/html": [
              "\n",
              "  <div id=\"df-131410c7-d1fd-47ed-a0e1-1ff8f77ee52e\">\n",
              "    <div class=\"colab-df-container\">\n",
              "      <div>\n",
              "<style scoped>\n",
              "    .dataframe tbody tr th:only-of-type {\n",
              "        vertical-align: middle;\n",
              "    }\n",
              "\n",
              "    .dataframe tbody tr th {\n",
              "        vertical-align: top;\n",
              "    }\n",
              "\n",
              "    .dataframe thead th {\n",
              "        text-align: right;\n",
              "    }\n",
              "</style>\n",
              "<table border=\"1\" class=\"dataframe\">\n",
              "  <thead>\n",
              "    <tr style=\"text-align: right;\">\n",
              "      <th></th>\n",
              "      <th>Sales</th>\n",
              "      <th>diff_1</th>\n",
              "      <th>diff_2</th>\n",
              "    </tr>\n",
              "    <tr>\n",
              "      <th>Date</th>\n",
              "      <th></th>\n",
              "      <th></th>\n",
              "      <th></th>\n",
              "    </tr>\n",
              "  </thead>\n",
              "  <tbody>\n",
              "    <tr>\n",
              "      <th>2019-01-01</th>\n",
              "      <td>74841.05</td>\n",
              "      <td>NaN</td>\n",
              "      <td>NaN</td>\n",
              "    </tr>\n",
              "    <tr>\n",
              "      <th>2019-04-01</th>\n",
              "      <td>70324.32</td>\n",
              "      <td>-4516.73</td>\n",
              "      <td>NaN</td>\n",
              "    </tr>\n",
              "    <tr>\n",
              "      <th>2019-07-01</th>\n",
              "      <td>59015.98</td>\n",
              "      <td>-11308.34</td>\n",
              "      <td>-6791.61</td>\n",
              "    </tr>\n",
              "    <tr>\n",
              "      <th>2019-10-01</th>\n",
              "      <td>53238.89</td>\n",
              "      <td>-5777.09</td>\n",
              "      <td>5531.25</td>\n",
              "    </tr>\n",
              "    <tr>\n",
              "      <th>2020-01-01</th>\n",
              "      <td>87975.75</td>\n",
              "      <td>34736.86</td>\n",
              "      <td>40513.95</td>\n",
              "    </tr>\n",
              "  </tbody>\n",
              "</table>\n",
              "</div>\n",
              "      <button class=\"colab-df-convert\" onclick=\"convertToInteractive('df-131410c7-d1fd-47ed-a0e1-1ff8f77ee52e')\"\n",
              "              title=\"Convert this dataframe to an interactive table.\"\n",
              "              style=\"display:none;\">\n",
              "        \n",
              "  <svg xmlns=\"http://www.w3.org/2000/svg\" height=\"24px\"viewBox=\"0 0 24 24\"\n",
              "       width=\"24px\">\n",
              "    <path d=\"M0 0h24v24H0V0z\" fill=\"none\"/>\n",
              "    <path d=\"M18.56 5.44l.94 2.06.94-2.06 2.06-.94-2.06-.94-.94-2.06-.94 2.06-2.06.94zm-11 1L8.5 8.5l.94-2.06 2.06-.94-2.06-.94L8.5 2.5l-.94 2.06-2.06.94zm10 10l.94 2.06.94-2.06 2.06-.94-2.06-.94-.94-2.06-.94 2.06-2.06.94z\"/><path d=\"M17.41 7.96l-1.37-1.37c-.4-.4-.92-.59-1.43-.59-.52 0-1.04.2-1.43.59L10.3 9.45l-7.72 7.72c-.78.78-.78 2.05 0 2.83L4 21.41c.39.39.9.59 1.41.59.51 0 1.02-.2 1.41-.59l7.78-7.78 2.81-2.81c.8-.78.8-2.07 0-2.86zM5.41 20L4 18.59l7.72-7.72 1.47 1.35L5.41 20z\"/>\n",
              "  </svg>\n",
              "      </button>\n",
              "      \n",
              "  <style>\n",
              "    .colab-df-container {\n",
              "      display:flex;\n",
              "      flex-wrap:wrap;\n",
              "      gap: 12px;\n",
              "    }\n",
              "\n",
              "    .colab-df-convert {\n",
              "      background-color: #E8F0FE;\n",
              "      border: none;\n",
              "      border-radius: 50%;\n",
              "      cursor: pointer;\n",
              "      display: none;\n",
              "      fill: #1967D2;\n",
              "      height: 32px;\n",
              "      padding: 0 0 0 0;\n",
              "      width: 32px;\n",
              "    }\n",
              "\n",
              "    .colab-df-convert:hover {\n",
              "      background-color: #E2EBFA;\n",
              "      box-shadow: 0px 1px 2px rgba(60, 64, 67, 0.3), 0px 1px 3px 1px rgba(60, 64, 67, 0.15);\n",
              "      fill: #174EA6;\n",
              "    }\n",
              "\n",
              "    [theme=dark] .colab-df-convert {\n",
              "      background-color: #3B4455;\n",
              "      fill: #D2E3FC;\n",
              "    }\n",
              "\n",
              "    [theme=dark] .colab-df-convert:hover {\n",
              "      background-color: #434B5C;\n",
              "      box-shadow: 0px 1px 3px 1px rgba(0, 0, 0, 0.15);\n",
              "      filter: drop-shadow(0px 1px 2px rgba(0, 0, 0, 0.3));\n",
              "      fill: #FFFFFF;\n",
              "    }\n",
              "  </style>\n",
              "\n",
              "      <script>\n",
              "        const buttonEl =\n",
              "          document.querySelector('#df-131410c7-d1fd-47ed-a0e1-1ff8f77ee52e button.colab-df-convert');\n",
              "        buttonEl.style.display =\n",
              "          google.colab.kernel.accessAllowed ? 'block' : 'none';\n",
              "\n",
              "        async function convertToInteractive(key) {\n",
              "          const element = document.querySelector('#df-131410c7-d1fd-47ed-a0e1-1ff8f77ee52e');\n",
              "          const dataTable =\n",
              "            await google.colab.kernel.invokeFunction('convertToInteractive',\n",
              "                                                     [key], {});\n",
              "          if (!dataTable) return;\n",
              "\n",
              "          const docLinkHtml = 'Like what you see? Visit the ' +\n",
              "            '<a target=\"_blank\" href=https://colab.research.google.com/notebooks/data_table.ipynb>data table notebook</a>'\n",
              "            + ' to learn more about interactive tables.';\n",
              "          element.innerHTML = '';\n",
              "          dataTable['output_type'] = 'display_data';\n",
              "          await google.colab.output.renderOutput(dataTable, element);\n",
              "          const docLink = document.createElement('div');\n",
              "          docLink.innerHTML = docLinkHtml;\n",
              "          element.appendChild(docLink);\n",
              "        }\n",
              "      </script>\n",
              "    </div>\n",
              "  </div>\n",
              "  "
            ]
          },
          "metadata": {},
          "execution_count": 7
        }
      ]
    },
    {
      "cell_type": "markdown",
      "source": [
        "We notice that the first differenced value is \"N/A\" so should drop this row before we test the differenced values as before:"
      ],
      "metadata": {
        "id": "k9aT-OdB2CBF"
      }
    },
    {
      "cell_type": "code",
      "source": [
        "df2 = df.dropna(subset=[\"diff_1\"]) # drop rows where we have an NaN in the diff_1 column\n",
        "\n",
        "# perform ADF test - autolag with automatically identify the optimal number of lags\n",
        "acf_test = adfuller(df2[\"diff_1\"], autolag=\"AIC\")\n",
        "\n",
        "# add the ouput to a series with the names of the statistics\n",
        "output = pd.Series(acf_test[0:4], index=[\"Test statistic\", \"p-value\", \"Lags\", \"Observations\"])\n",
        "\n",
        "print(output)"
      ],
      "metadata": {
        "colab": {
          "base_uri": "https://localhost:8080/"
        },
        "id": "WVDPDYGU2FpQ",
        "outputId": "c6911957-a8c6-4649-eceb-45e68bc6cd3e"
      },
      "execution_count": 8,
      "outputs": [
        {
          "output_type": "stream",
          "name": "stdout",
          "text": [
            "Test statistic   -1.678088e+01\n",
            "p-value           1.264507e-29\n",
            "Lags              2.000000e+00\n",
            "Observations      1.200000e+01\n",
            "dtype: float64\n"
          ]
        }
      ]
    },
    {
      "cell_type": "markdown",
      "source": [
        "We again reject the null. Also the trend looks linear so we will proceed with the value of 1 for the $d$ parameter (first-order differencing).\n",
        "\n",
        "Next we need to estimate $D$ parameter - the differencing required for the seasonal component. We can do this in a similar fashion to the previous, but will need to look not at the previous values but those one season before. Pandas' *shift* function allows us to compare to the values one quarter previous, *Note this is not differencing but just calculating the seasonal component to see if it is stationary*: "
      ],
      "metadata": {
        "id": "0xC5VpNn3ZhT"
      }
    },
    {
      "cell_type": "code",
      "source": [
        "df[\"diff_seasonal\"] = df[\"Sales\"] - df[\"Sales\"].shift(4) # seasonality is quarterly\n",
        "\n",
        "df[\"diff_seasonal\"].plot()"
      ],
      "metadata": {
        "colab": {
          "base_uri": "https://localhost:8080/",
          "height": 296
        },
        "id": "8XKfTZN_4ImW",
        "outputId": "228e6b5c-9752-4f15-d5fe-e5e76a5ac1bb"
      },
      "execution_count": 9,
      "outputs": [
        {
          "output_type": "execute_result",
          "data": {
            "text/plain": [
              "<matplotlib.axes._subplots.AxesSubplot at 0x7fe5a444c950>"
            ]
          },
          "metadata": {},
          "execution_count": 9
        },
        {
          "output_type": "display_data",
          "data": {
            "text/plain": [
              "<Figure size 432x288 with 1 Axes>"
            ],
            "image/png": "[encoded data removed]"
          },
          "metadata": {
            "needs_background": "light"
          }
        }
      ]
    },
    {
      "cell_type": "markdown",
      "source": [
        "The seasonal component does seem stationary but again we can try to test this:"
      ],
      "metadata": {
        "id": "_IgTA4ap6F0P"
      }
    },
    {
      "cell_type": "code",
      "source": [
        "df2 = df.dropna(subset=[\"diff_seasonal\"]) # drop rows where we have an NaN in the diff_seasonal column\n",
        "\n",
        "# perform ADF test - autolag with automatically identify the optimal number of lags\n",
        "acf_test = adfuller(df2[\"diff_seasonal\"], autolag=\"AIC\")\n",
        "\n",
        "# add the ouput to a series with the names of the statistics\n",
        "output = pd.Series(acf_test[0:4], index=[\"Test statistic\", \"p-value\", \"Lags\", \"Observations\"])\n",
        "\n",
        "print(output)"
      ],
      "metadata": {
        "colab": {
          "base_uri": "https://localhost:8080/"
        },
        "id": "I_411dBb6LGx",
        "outputId": "13f4f69a-3478-4812-e4f6-425da2a30872"
      },
      "execution_count": 10,
      "outputs": [
        {
          "output_type": "stream",
          "name": "stdout",
          "text": [
            "Test statistic    -3.220329\n",
            "p-value            0.018838\n",
            "Lags               1.000000\n",
            "Observations      10.000000\n",
            "dtype: float64\n"
          ]
        }
      ]
    },
    {
      "cell_type": "markdown",
      "source": [
        "In this case we can see that we can reject the null hypothesis and conclude that we do not need to difference the data ($D$=0). However, if need to difference we could do that as follows:"
      ],
      "metadata": {
        "id": "F2OOV_3e7Etg"
      }
    },
    {
      "cell_type": "code",
      "source": [
        "df[\"diff_seasonal_1\"] = df[\"diff_seasonal\"] - df[\"diff_seasonal\"].shift(4) # seasonality is quarterly\n",
        "df[\"diff_seasonal_1\"].plot()"
      ],
      "metadata": {
        "colab": {
          "base_uri": "https://localhost:8080/",
          "height": 296
        },
        "id": "WdDLX04a73H8",
        "outputId": "663cc384-f18b-4d80-bff1-ded5b88dfd7c"
      },
      "execution_count": 11,
      "outputs": [
        {
          "output_type": "execute_result",
          "data": {
            "text/plain": [
              "<matplotlib.axes._subplots.AxesSubplot at 0x7fe5a4378050>"
            ]
          },
          "metadata": {},
          "execution_count": 11
        },
        {
          "output_type": "display_data",
          "data": {
            "text/plain": [
              "<Figure size 432x288 with 1 Axes>"
            ],
            "image/png": "[encoded data removed]"
          },
          "metadata": {
            "needs_background": "light"
          }
        }
      ]
    },
    {
      "cell_type": "markdown",
      "source": [
        "Lastly we also need the parameters for $p$, $q$, $P$ and $Q$. The previously installed *pmdarima* module will test all the values for us and tell us the best parameters. We'll set maximum values of each parameter as 3 mostly for speed but these are decent maximums given the size of our data and quarterly pattern."
      ],
      "metadata": {
        "id": "eKamwS6D8Yss"
      }
    },
    {
      "cell_type": "code",
      "source": [
        "import pmdarima as pm\n",
        "\n",
        "model = pm.auto_arima(df.Sales, \n",
        "                      start_p=1, \n",
        "                      start_q=1,\n",
        "                      max_p=3, max_q=3, # maximum p and q\n",
        "                      m=4,              # quarterly seasonality\n",
        "                      d=1,              # first order differencing as above\n",
        "                      seasonal=True,    # seasonality included\n",
        "                      start_P=1,\n",
        "                      start_Q=1,\n",
        "                      max_P=3, max_Q=3, # maximum P and Q  \n",
        "                      D=0,              # no seasonal differencing as above \n",
        "                      trace=True,\n",
        "                      error_action='ignore',  \n",
        "                      suppress_warnings=True, \n",
        "                      stepwise=True)\n",
        "\n",
        "print(model.summary())"
      ],
      "metadata": {
        "colab": {
          "base_uri": "https://localhost:8080/"
        },
        "id": "njk1mkVC9zf5",
        "outputId": "19330e94-c85d-47db-e4ed-09393e7cc6cd"
      },
      "execution_count": 12,
      "outputs": [
        {
          "output_type": "stream",
          "name": "stdout",
          "text": [
            "Performing stepwise search to minimize aic\n",
            " ARIMA(1,1,1)(1,0,1)[4] intercept   : AIC=inf, Time=0.60 sec\n",
            " ARIMA(0,1,0)(0,0,0)[4] intercept   : AIC=347.584, Time=0.04 sec\n",
            " ARIMA(1,1,0)(1,0,0)[4] intercept   : AIC=342.390, Time=0.07 sec\n",
            " ARIMA(0,1,1)(0,0,1)[4] intercept   : AIC=343.589, Time=0.10 sec\n",
            " ARIMA(0,1,0)(0,0,0)[4]             : AIC=345.670, Time=0.03 sec\n",
            " ARIMA(1,1,0)(0,0,0)[4] intercept   : AIC=348.257, Time=0.04 sec\n",
            " ARIMA(1,1,0)(2,0,0)[4] intercept   : AIC=343.659, Time=0.08 sec\n",
            " ARIMA(1,1,0)(1,0,1)[4] intercept   : AIC=343.986, Time=0.26 sec\n",
            " ARIMA(1,1,0)(0,0,1)[4] intercept   : AIC=344.617, Time=0.20 sec\n",
            " ARIMA(1,1,0)(2,0,1)[4] intercept   : AIC=345.638, Time=0.22 sec\n",
            " ARIMA(0,1,0)(1,0,0)[4] intercept   : AIC=341.105, Time=0.08 sec\n",
            " ARIMA(0,1,0)(2,0,0)[4] intercept   : AIC=342.352, Time=0.10 sec\n",
            " ARIMA(0,1,0)(1,0,1)[4] intercept   : AIC=342.444, Time=0.13 sec\n",
            " ARIMA(0,1,0)(0,0,1)[4] intercept   : AIC=inf, Time=0.17 sec\n",
            " ARIMA(0,1,0)(2,0,1)[4] intercept   : AIC=344.226, Time=0.14 sec\n",
            " ARIMA(0,1,1)(1,0,0)[4] intercept   : AIC=348.022, Time=0.10 sec\n",
            " ARIMA(1,1,1)(1,0,0)[4] intercept   : AIC=inf, Time=0.38 sec\n",
            " ARIMA(0,1,0)(1,0,0)[4]             : AIC=331.158, Time=0.12 sec\n",
            " ARIMA(0,1,0)(2,0,0)[4]             : AIC=329.064, Time=0.14 sec\n",
            " ARIMA(0,1,0)(3,0,0)[4]             : AIC=inf, Time=1.25 sec\n",
            " ARIMA(0,1,0)(2,0,1)[4]             : AIC=327.104, Time=0.35 sec\n",
            " ARIMA(0,1,0)(1,0,1)[4]             : AIC=inf, Time=0.50 sec\n",
            " ARIMA(0,1,0)(3,0,1)[4]             : AIC=inf, Time=1.84 sec\n",
            " ARIMA(0,1,0)(2,0,2)[4]             : AIC=341.845, Time=0.51 sec\n",
            " ARIMA(0,1,0)(1,0,2)[4]             : AIC=339.843, Time=0.42 sec\n",
            " ARIMA(0,1,0)(3,0,2)[4]             : AIC=343.618, Time=0.64 sec\n",
            " ARIMA(1,1,0)(2,0,1)[4]             : AIC=342.640, Time=0.35 sec\n",
            " ARIMA(0,1,1)(2,0,1)[4]             : AIC=338.980, Time=0.42 sec\n",
            " ARIMA(1,1,1)(2,0,1)[4]             : AIC=336.547, Time=0.56 sec\n",
            "\n",
            "Best model:  ARIMA(0,1,0)(2,0,1)[4]          \n",
            "Total fit time: 9.902 seconds\n",
            "                                      SARIMAX Results                                      \n",
            "===========================================================================================\n",
            "Dep. Variable:                                   y   No. Observations:                   16\n",
            "Model:             SARIMAX(0, 1, 0)x(2, 0, [1], 4)   Log Likelihood                -159.552\n",
            "Date:                             Wed, 21 Sep 2022   AIC                            327.104\n",
            "Time:                                     19:41:13   BIC                            329.936\n",
            "Sample:                                 01-01-2019   HQIC                           327.074\n",
            "                                      - 10-01-2022                                         \n",
            "Covariance Type:                               opg                                         \n",
            "==============================================================================\n",
            "                 coef    std err          z      P>|z|      [0.025      0.975]\n",
            "------------------------------------------------------------------------------\n",
            "ar.S.L4        0.7775      2.071      0.376      0.707      -3.281       4.836\n",
            "ar.S.L8        0.1868      1.755      0.106      0.915      -3.254       3.627\n",
            "ma.S.L4       -0.6836      1.984     -0.345      0.730      -4.572       3.204\n",
            "sigma2      1.233e+08   1.47e-08   8.41e+15      0.000    1.23e+08    1.23e+08\n",
            "===================================================================================\n",
            "Ljung-Box (L1) (Q):                   3.72   Jarque-Bera (JB):                 8.32\n",
            "Prob(Q):                              0.05   Prob(JB):                         0.02\n",
            "Heteroskedasticity (H):               5.91   Skew:                             1.13\n",
            "Prob(H) (two-sided):                  0.07   Kurtosis:                         5.86\n",
            "===================================================================================\n",
            "\n",
            "Warnings:\n",
            "[1] Covariance matrix calculated using the outer product of gradients (complex-step).\n",
            "[2] Covariance matrix is singular or near-singular, with condition number 1.51e+33. Standard errors may be unstable.\n"
          ]
        }
      ]
    },
    {
      "cell_type": "markdown",
      "source": [
        "The experiments identify the following parameters:<br><br>\n",
        "$p$ = 0<br>\n",
        "$q$ = 0<br>\n",
        "$P$ = 2<br>\n",
        "$Q$ = 1<br><br>\n",
        "In other words, we only need the last result to predict the **AR** and **MA** component for the general trend, the last three results for the **AR** of the seasonal component, and the last two for the **MA** of the seasonal component.\n",
        "\n",
        "With these values we can fit the final model:"
      ],
      "metadata": {
        "id": "K264VWFJBtid"
      }
    },
    {
      "cell_type": "code",
      "source": [
        "from statsmodels.tsa.statespace.sarimax import SARIMAX\n",
        "\n",
        "model = SARIMAX(df[\"Sales\"], order=(0, 1, 0), seasonal_order=(2, 0, 1, 4))\n",
        "result = model.fit()"
      ],
      "metadata": {
        "colab": {
          "base_uri": "https://localhost:8080/"
        },
        "id": "ZHVF9GCiCIzd",
        "outputId": "07a42b4b-fc93-4913-c988-9dc53dbf9d45"
      },
      "execution_count": 13,
      "outputs": [
        {
          "output_type": "stream",
          "name": "stderr",
          "text": [
            "/usr/local/lib/python3.7/dist-packages/statsmodels/tsa/base/tsa_model.py:471: ValueWarning: No frequency information was provided, so inferred frequency QS-OCT will be used.\n",
            "  self._init_dates(dates, freq)\n",
            "/usr/local/lib/python3.7/dist-packages/statsmodels/tsa/base/tsa_model.py:471: ValueWarning: No frequency information was provided, so inferred frequency QS-OCT will be used.\n",
            "  self._init_dates(dates, freq)\n",
            "/usr/local/lib/python3.7/dist-packages/statsmodels/tsa/statespace/sarimax.py:997: UserWarning: Non-stationary starting seasonal autoregressive Using zeros as starting parameters.\n",
            "  warn('Non-stationary starting seasonal autoregressive'\n",
            "/usr/local/lib/python3.7/dist-packages/statsmodels/tsa/statespace/sarimax.py:1009: UserWarning: Non-invertible starting seasonal moving average Using zeros as starting parameters.\n",
            "  warn('Non-invertible starting seasonal moving average'\n"
          ]
        }
      ]
    },
    {
      "cell_type": "markdown",
      "source": [
        "Lastly we will make predictions for the next four quarters (2023). We start by creating an empty DataFrame:"
      ],
      "metadata": {
        "id": "T9bEhk9sC6lz"
      }
    },
    {
      "cell_type": "code",
      "source": [
        "predictions = [\"2023/01/01\", \"2023/04/01\", \"2023/07/01\", \"2023/10/01\"]\n",
        "\n",
        "pred_df = pd.DataFrame(index=predictions, columns=df.columns) # use the new dates for the index and the columns from df\n",
        "pred_df.index = pd.to_datetime(pred_df.index) # convert index to a pandas datetime object\n",
        "pred_df.head()"
      ],
      "metadata": {
        "colab": {
          "base_uri": "https://localhost:8080/",
          "height": 175
        },
        "id": "NtmLuWvvC67d",
        "outputId": "bf349dac-3602-408f-c2cc-b98e312e5f4a"
      },
      "execution_count": 14,
      "outputs": [
        {
          "output_type": "execute_result",
          "data": {
            "text/plain": [
              "           Sales diff_1 diff_2 diff_seasonal diff_seasonal_1\n",
              "2023-01-01   NaN    NaN    NaN           NaN             NaN\n",
              "2023-04-01   NaN    NaN    NaN           NaN             NaN\n",
              "2023-07-01   NaN    NaN    NaN           NaN             NaN\n",
              "2023-10-01   NaN    NaN    NaN           NaN             NaN"
            ],
            "text/html": [
              "\n",
              "  <div id=\"df-beb4af44-95d2-43fc-bdf3-bd7b44d392f9\">\n",
              "    <div class=\"colab-df-container\">\n",
              "      <div>\n",
              "<style scoped>\n",
              "    .dataframe tbody tr th:only-of-type {\n",
              "        vertical-align: middle;\n",
              "    }\n",
              "\n",
              "    .dataframe tbody tr th {\n",
              "        vertical-align: top;\n",
              "    }\n",
              "\n",
              "    .dataframe thead th {\n",
              "        text-align: right;\n",
              "    }\n",
              "</style>\n",
              "<table border=\"1\" class=\"dataframe\">\n",
              "  <thead>\n",
              "    <tr style=\"text-align: right;\">\n",
              "      <th></th>\n",
              "      <th>Sales</th>\n",
              "      <th>diff_1</th>\n",
              "      <th>diff_2</th>\n",
              "      <th>diff_seasonal</th>\n",
              "      <th>diff_seasonal_1</th>\n",
              "    </tr>\n",
              "  </thead>\n",
              "  <tbody>\n",
              "    <tr>\n",
              "      <th>2023-01-01</th>\n",
              "      <td>NaN</td>\n",
              "      <td>NaN</td>\n",
              "      <td>NaN</td>\n",
              "      <td>NaN</td>\n",
              "      <td>NaN</td>\n",
              "    </tr>\n",
              "    <tr>\n",
              "      <th>2023-04-01</th>\n",
              "      <td>NaN</td>\n",
              "      <td>NaN</td>\n",
              "      <td>NaN</td>\n",
              "      <td>NaN</td>\n",
              "      <td>NaN</td>\n",
              "    </tr>\n",
              "    <tr>\n",
              "      <th>2023-07-01</th>\n",
              "      <td>NaN</td>\n",
              "      <td>NaN</td>\n",
              "      <td>NaN</td>\n",
              "      <td>NaN</td>\n",
              "      <td>NaN</td>\n",
              "    </tr>\n",
              "    <tr>\n",
              "      <th>2023-10-01</th>\n",
              "      <td>NaN</td>\n",
              "      <td>NaN</td>\n",
              "      <td>NaN</td>\n",
              "      <td>NaN</td>\n",
              "      <td>NaN</td>\n",
              "    </tr>\n",
              "  </tbody>\n",
              "</table>\n",
              "</div>\n",
              "      <button class=\"colab-df-convert\" onclick=\"convertToInteractive('df-beb4af44-95d2-43fc-bdf3-bd7b44d392f9')\"\n",
              "              title=\"Convert this dataframe to an interactive table.\"\n",
              "              style=\"display:none;\">\n",
              "        \n",
              "  <svg xmlns=\"http://www.w3.org/2000/svg\" height=\"24px\"viewBox=\"0 0 24 24\"\n",
              "       width=\"24px\">\n",
              "    <path d=\"M0 0h24v24H0V0z\" fill=\"none\"/>\n",
              "    <path d=\"M18.56 5.44l.94 2.06.94-2.06 2.06-.94-2.06-.94-.94-2.06-.94 2.06-2.06.94zm-11 1L8.5 8.5l.94-2.06 2.06-.94-2.06-.94L8.5 2.5l-.94 2.06-2.06.94zm10 10l.94 2.06.94-2.06 2.06-.94-2.06-.94-.94-2.06-.94 2.06-2.06.94z\"/><path d=\"M17.41 7.96l-1.37-1.37c-.4-.4-.92-.59-1.43-.59-.52 0-1.04.2-1.43.59L10.3 9.45l-7.72 7.72c-.78.78-.78 2.05 0 2.83L4 21.41c.39.39.9.59 1.41.59.51 0 1.02-.2 1.41-.59l7.78-7.78 2.81-2.81c.8-.78.8-2.07 0-2.86zM5.41 20L4 18.59l7.72-7.72 1.47 1.35L5.41 20z\"/>\n",
              "  </svg>\n",
              "      </button>\n",
              "      \n",
              "  <style>\n",
              "    .colab-df-container {\n",
              "      display:flex;\n",
              "      flex-wrap:wrap;\n",
              "      gap: 12px;\n",
              "    }\n",
              "\n",
              "    .colab-df-convert {\n",
              "      background-color: #E8F0FE;\n",
              "      border: none;\n",
              "      border-radius: 50%;\n",
              "      cursor: pointer;\n",
              "      display: none;\n",
              "      fill: #1967D2;\n",
              "      height: 32px;\n",
              "      padding: 0 0 0 0;\n",
              "      width: 32px;\n",
              "    }\n",
              "\n",
              "    .colab-df-convert:hover {\n",
              "      background-color: #E2EBFA;\n",
              "      box-shadow: 0px 1px 2px rgba(60, 64, 67, 0.3), 0px 1px 3px 1px rgba(60, 64, 67, 0.15);\n",
              "      fill: #174EA6;\n",
              "    }\n",
              "\n",
              "    [theme=dark] .colab-df-convert {\n",
              "      background-color: #3B4455;\n",
              "      fill: #D2E3FC;\n",
              "    }\n",
              "\n",
              "    [theme=dark] .colab-df-convert:hover {\n",
              "      background-color: #434B5C;\n",
              "      box-shadow: 0px 1px 3px 1px rgba(0, 0, 0, 0.15);\n",
              "      filter: drop-shadow(0px 1px 2px rgba(0, 0, 0, 0.3));\n",
              "      fill: #FFFFFF;\n",
              "    }\n",
              "  </style>\n",
              "\n",
              "      <script>\n",
              "        const buttonEl =\n",
              "          document.querySelector('#df-beb4af44-95d2-43fc-bdf3-bd7b44d392f9 button.colab-df-convert');\n",
              "        buttonEl.style.display =\n",
              "          google.colab.kernel.accessAllowed ? 'block' : 'none';\n",
              "\n",
              "        async function convertToInteractive(key) {\n",
              "          const element = document.querySelector('#df-beb4af44-95d2-43fc-bdf3-bd7b44d392f9');\n",
              "          const dataTable =\n",
              "            await google.colab.kernel.invokeFunction('convertToInteractive',\n",
              "                                                     [key], {});\n",
              "          if (!dataTable) return;\n",
              "\n",
              "          const docLinkHtml = 'Like what you see? Visit the ' +\n",
              "            '<a target=\"_blank\" href=https://colab.research.google.com/notebooks/data_table.ipynb>data table notebook</a>'\n",
              "            + ' to learn more about interactive tables.';\n",
              "          element.innerHTML = '';\n",
              "          dataTable['output_type'] = 'display_data';\n",
              "          await google.colab.output.renderOutput(dataTable, element);\n",
              "          const docLink = document.createElement('div');\n",
              "          docLink.innerHTML = docLinkHtml;\n",
              "          element.appendChild(docLink);\n",
              "        }\n",
              "      </script>\n",
              "    </div>\n",
              "  </div>\n",
              "  "
            ]
          },
          "metadata": {},
          "execution_count": 14
        }
      ]
    },
    {
      "cell_type": "markdown",
      "source": [
        "Lastly we will add this DataFrame to the bottom of the previous using Pandas' *concat*. We will create a new column for predictions (\"Preds\") in which we will put in our predictions for the new dates. Because we only want to predict future dates, there are 16 existing data points, and because Python counts from zero up the first record to predict from is row 15 and the last element will be in row 19 (4x predictions)."
      ],
      "metadata": {
        "id": "a2xpONmSGGvK"
      }
    },
    {
      "cell_type": "code",
      "source": [
        "df2 = pd.concat([df, pred_df])\n",
        "df2[\"Preds\"] = result.predict(start=15, end=19)\n",
        "df2.tail(4)"
      ],
      "metadata": {
        "colab": {
          "base_uri": "https://localhost:8080/",
          "height": 175
        },
        "id": "z51M6djqErwr",
        "outputId": "6f9d0bec-b269-4217-a232-33be4b908bc9"
      },
      "execution_count": 15,
      "outputs": [
        {
          "output_type": "execute_result",
          "data": {
            "text/plain": [
              "            Sales  diff_1  diff_2  diff_seasonal  diff_seasonal_1  \\\n",
              "2023-01-01    NaN     NaN     NaN            NaN              NaN   \n",
              "2023-04-01    NaN     NaN     NaN            NaN              NaN   \n",
              "2023-07-01    NaN     NaN     NaN            NaN              NaN   \n",
              "2023-10-01    NaN     NaN     NaN            NaN              NaN   \n",
              "\n",
              "                    Preds  \n",
              "2023-01-01  136419.574622  \n",
              "2023-04-01  129592.898597  \n",
              "2023-07-01  121843.470109  \n",
              "2023-10-01  113645.170214  "
            ],
            "text/html": [
              "\n",
              "  <div id=\"df-5a488239-0b07-427c-92c9-b7ac896a989d\">\n",
              "    <div class=\"colab-df-container\">\n",
              "      <div>\n",
              "<style scoped>\n",
              "    .dataframe tbody tr th:only-of-type {\n",
              "        vertical-align: middle;\n",
              "    }\n",
              "\n",
              "    .dataframe tbody tr th {\n",
              "        vertical-align: top;\n",
              "    }\n",
              "\n",
              "    .dataframe thead th {\n",
              "        text-align: right;\n",
              "    }\n",
              "</style>\n",
              "<table border=\"1\" class=\"dataframe\">\n",
              "  <thead>\n",
              "    <tr style=\"text-align: right;\">\n",
              "      <th></th>\n",
              "      <th>Sales</th>\n",
              "      <th>diff_1</th>\n",
              "      <th>diff_2</th>\n",
              "      <th>diff_seasonal</th>\n",
              "      <th>diff_seasonal_1</th>\n",
              "      <th>Preds</th>\n",
              "    </tr>\n",
              "  </thead>\n",
              "  <tbody>\n",
              "    <tr>\n",
              "      <th>2023-01-01</th>\n",
              "      <td>NaN</td>\n",
              "      <td>NaN</td>\n",
              "      <td>NaN</td>\n",
              "      <td>NaN</td>\n",
              "      <td>NaN</td>\n",
              "      <td>136419.574622</td>\n",
              "    </tr>\n",
              "    <tr>\n",
              "      <th>2023-04-01</th>\n",
              "      <td>NaN</td>\n",
              "      <td>NaN</td>\n",
              "      <td>NaN</td>\n",
              "      <td>NaN</td>\n",
              "      <td>NaN</td>\n",
              "      <td>129592.898597</td>\n",
              "    </tr>\n",
              "    <tr>\n",
              "      <th>2023-07-01</th>\n",
              "      <td>NaN</td>\n",
              "      <td>NaN</td>\n",
              "      <td>NaN</td>\n",
              "      <td>NaN</td>\n",
              "      <td>NaN</td>\n",
              "      <td>121843.470109</td>\n",
              "    </tr>\n",
              "    <tr>\n",
              "      <th>2023-10-01</th>\n",
              "      <td>NaN</td>\n",
              "      <td>NaN</td>\n",
              "      <td>NaN</td>\n",
              "      <td>NaN</td>\n",
              "      <td>NaN</td>\n",
              "      <td>113645.170214</td>\n",
              "    </tr>\n",
              "  </tbody>\n",
              "</table>\n",
              "</div>\n",
              "      <button class=\"colab-df-convert\" onclick=\"convertToInteractive('df-5a488239-0b07-427c-92c9-b7ac896a989d')\"\n",
              "              title=\"Convert this dataframe to an interactive table.\"\n",
              "              style=\"display:none;\">\n",
              "        \n",
              "  <svg xmlns=\"http://www.w3.org/2000/svg\" height=\"24px\"viewBox=\"0 0 24 24\"\n",
              "       width=\"24px\">\n",
              "    <path d=\"M0 0h24v24H0V0z\" fill=\"none\"/>\n",
              "    <path d=\"M18.56 5.44l.94 2.06.94-2.06 2.06-.94-2.06-.94-.94-2.06-.94 2.06-2.06.94zm-11 1L8.5 8.5l.94-2.06 2.06-.94-2.06-.94L8.5 2.5l-.94 2.06-2.06.94zm10 10l.94 2.06.94-2.06 2.06-.94-2.06-.94-.94-2.06-.94 2.06-2.06.94z\"/><path d=\"M17.41 7.96l-1.37-1.37c-.4-.4-.92-.59-1.43-.59-.52 0-1.04.2-1.43.59L10.3 9.45l-7.72 7.72c-.78.78-.78 2.05 0 2.83L4 21.41c.39.39.9.59 1.41.59.51 0 1.02-.2 1.41-.59l7.78-7.78 2.81-2.81c.8-.78.8-2.07 0-2.86zM5.41 20L4 18.59l7.72-7.72 1.47 1.35L5.41 20z\"/>\n",
              "  </svg>\n",
              "      </button>\n",
              "      \n",
              "  <style>\n",
              "    .colab-df-container {\n",
              "      display:flex;\n",
              "      flex-wrap:wrap;\n",
              "      gap: 12px;\n",
              "    }\n",
              "\n",
              "    .colab-df-convert {\n",
              "      background-color: #E8F0FE;\n",
              "      border: none;\n",
              "      border-radius: 50%;\n",
              "      cursor: pointer;\n",
              "      display: none;\n",
              "      fill: #1967D2;\n",
              "      height: 32px;\n",
              "      padding: 0 0 0 0;\n",
              "      width: 32px;\n",
              "    }\n",
              "\n",
              "    .colab-df-convert:hover {\n",
              "      background-color: #E2EBFA;\n",
              "      box-shadow: 0px 1px 2px rgba(60, 64, 67, 0.3), 0px 1px 3px 1px rgba(60, 64, 67, 0.15);\n",
              "      fill: #174EA6;\n",
              "    }\n",
              "\n",
              "    [theme=dark] .colab-df-convert {\n",
              "      background-color: #3B4455;\n",
              "      fill: #D2E3FC;\n",
              "    }\n",
              "\n",
              "    [theme=dark] .colab-df-convert:hover {\n",
              "      background-color: #434B5C;\n",
              "      box-shadow: 0px 1px 3px 1px rgba(0, 0, 0, 0.15);\n",
              "      filter: drop-shadow(0px 1px 2px rgba(0, 0, 0, 0.3));\n",
              "      fill: #FFFFFF;\n",
              "    }\n",
              "  </style>\n",
              "\n",
              "      <script>\n",
              "        const buttonEl =\n",
              "          document.querySelector('#df-5a488239-0b07-427c-92c9-b7ac896a989d button.colab-df-convert');\n",
              "        buttonEl.style.display =\n",
              "          google.colab.kernel.accessAllowed ? 'block' : 'none';\n",
              "\n",
              "        async function convertToInteractive(key) {\n",
              "          const element = document.querySelector('#df-5a488239-0b07-427c-92c9-b7ac896a989d');\n",
              "          const dataTable =\n",
              "            await google.colab.kernel.invokeFunction('convertToInteractive',\n",
              "                                                     [key], {});\n",
              "          if (!dataTable) return;\n",
              "\n",
              "          const docLinkHtml = 'Like what you see? Visit the ' +\n",
              "            '<a target=\"_blank\" href=https://colab.research.google.com/notebooks/data_table.ipynb>data table notebook</a>'\n",
              "            + ' to learn more about interactive tables.';\n",
              "          element.innerHTML = '';\n",
              "          dataTable['output_type'] = 'display_data';\n",
              "          await google.colab.output.renderOutput(dataTable, element);\n",
              "          const docLink = document.createElement('div');\n",
              "          docLink.innerHTML = docLinkHtml;\n",
              "          element.appendChild(docLink);\n",
              "        }\n",
              "      </script>\n",
              "    </div>\n",
              "  </div>\n",
              "  "
            ]
          },
          "metadata": {},
          "execution_count": 15
        }
      ]
    },
    {
      "cell_type": "code",
      "source": [
        "df2[[\"Sales\", \"Preds\"]].plot()"
      ],
      "metadata": {
        "colab": {
          "base_uri": "https://localhost:8080/",
          "height": 282
        },
        "id": "QeSJl6gNK-R3",
        "outputId": "913da867-2d4a-4e18-d4fd-3b1db108f608"
      },
      "execution_count": 16,
      "outputs": [
        {
          "output_type": "execute_result",
          "data": {
            "text/plain": [
              "<matplotlib.axes._subplots.AxesSubplot at 0x7fe59ac83610>"
            ]
          },
          "metadata": {},
          "execution_count": 16
        },
        {
          "output_type": "display_data",
          "data": {
            "text/plain": [
              "<Figure size 432x288 with 1 Axes>"
            ],
            "image/png": "[encoded data removed]"
          },
          "metadata": {
            "needs_background": "light"
          }
        }
      ]
    },
    {
      "cell_type": "markdown",
      "source": [
        "Overall our results look pretty good! Well done :)"
      ],
      "metadata": {
        "id": "Ot0x9Q_LIo1R"
      }
    }
  ]
}